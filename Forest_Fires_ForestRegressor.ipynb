{
 "metadata": {
  "language_info": {
   "codemirror_mode": {
    "name": "ipython",
    "version": 3
   },
   "file_extension": ".py",
   "mimetype": "text/x-python",
   "name": "python",
   "nbconvert_exporter": "python",
   "pygments_lexer": "ipython3",
   "version": "3.7.6-final"
  },
  "orig_nbformat": 2,
  "kernelspec": {
   "name": "python_defaultSpec_1600451274884",
   "display_name": "Python 3.7.6 64-bit ('anaconda3': virtualenv)"
  }
 },
 "nbformat": 4,
 "nbformat_minor": 2,
 "cells": [
  {
   "cell_type": "code",
   "execution_count": 29,
   "metadata": {},
   "outputs": [],
   "source": [
    "#import dependencies \n",
    "%matplotlib inline\n",
    "import matplotlib.pyplot as plt\n",
    "from sklearn import tree\n",
    "import pandas as pd\n",
    "import numpy as np\n",
    "import os"
   ]
  },
  {
   "cell_type": "code",
   "execution_count": 30,
   "metadata": {},
   "outputs": [
    {
     "output_type": "execute_result",
     "data": {
      "text/plain": "   X  Y month  day  FFMC   DMC     DC  ISI  temp  RH  wind  rain  area\n0  7  5   mar  fri  86.2  26.2   94.3  5.1   8.2  51   6.7   0.0   0.0\n1  7  4   oct  tue  90.6  35.4  669.1  6.7  18.0  33   0.9   0.0   0.0\n2  7  4   oct  sat  90.6  43.7  686.9  6.7  14.6  33   1.3   0.0   0.0\n3  8  6   mar  fri  91.7  33.3   77.5  9.0   8.3  97   4.0   0.2   0.0\n4  8  6   mar  sun  89.3  51.3  102.2  9.6  11.4  99   1.8   0.0   0.0",
      "text/html": "<div>\n<style scoped>\n    .dataframe tbody tr th:only-of-type {\n        vertical-align: middle;\n    }\n\n    .dataframe tbody tr th {\n        vertical-align: top;\n    }\n\n    .dataframe thead th {\n        text-align: right;\n    }\n</style>\n<table border=\"1\" class=\"dataframe\">\n  <thead>\n    <tr style=\"text-align: right;\">\n      <th></th>\n      <th>X</th>\n      <th>Y</th>\n      <th>month</th>\n      <th>day</th>\n      <th>FFMC</th>\n      <th>DMC</th>\n      <th>DC</th>\n      <th>ISI</th>\n      <th>temp</th>\n      <th>RH</th>\n      <th>wind</th>\n      <th>rain</th>\n      <th>area</th>\n    </tr>\n  </thead>\n  <tbody>\n    <tr>\n      <th>0</th>\n      <td>7</td>\n      <td>5</td>\n      <td>mar</td>\n      <td>fri</td>\n      <td>86.2</td>\n      <td>26.2</td>\n      <td>94.3</td>\n      <td>5.1</td>\n      <td>8.2</td>\n      <td>51</td>\n      <td>6.7</td>\n      <td>0.0</td>\n      <td>0.0</td>\n    </tr>\n    <tr>\n      <th>1</th>\n      <td>7</td>\n      <td>4</td>\n      <td>oct</td>\n      <td>tue</td>\n      <td>90.6</td>\n      <td>35.4</td>\n      <td>669.1</td>\n      <td>6.7</td>\n      <td>18.0</td>\n      <td>33</td>\n      <td>0.9</td>\n      <td>0.0</td>\n      <td>0.0</td>\n    </tr>\n    <tr>\n      <th>2</th>\n      <td>7</td>\n      <td>4</td>\n      <td>oct</td>\n      <td>sat</td>\n      <td>90.6</td>\n      <td>43.7</td>\n      <td>686.9</td>\n      <td>6.7</td>\n      <td>14.6</td>\n      <td>33</td>\n      <td>1.3</td>\n      <td>0.0</td>\n      <td>0.0</td>\n    </tr>\n    <tr>\n      <th>3</th>\n      <td>8</td>\n      <td>6</td>\n      <td>mar</td>\n      <td>fri</td>\n      <td>91.7</td>\n      <td>33.3</td>\n      <td>77.5</td>\n      <td>9.0</td>\n      <td>8.3</td>\n      <td>97</td>\n      <td>4.0</td>\n      <td>0.2</td>\n      <td>0.0</td>\n    </tr>\n    <tr>\n      <th>4</th>\n      <td>8</td>\n      <td>6</td>\n      <td>mar</td>\n      <td>sun</td>\n      <td>89.3</td>\n      <td>51.3</td>\n      <td>102.2</td>\n      <td>9.6</td>\n      <td>11.4</td>\n      <td>99</td>\n      <td>1.8</td>\n      <td>0.0</td>\n      <td>0.0</td>\n    </tr>\n  </tbody>\n</table>\n</div>"
     },
     "metadata": {},
     "execution_count": 30
    }
   ],
   "source": [
    "# read data\n",
    "fires_df = pd.read_csv(\"data/forestfires.csv\")\n",
    "fires_df.head()"
   ]
  },
  {
   "cell_type": "code",
   "execution_count": 31,
   "metadata": {},
   "outputs": [
    {
     "output_type": "execute_result",
     "data": {
      "text/plain": "   X  Y  FFMC   DMC     DC  ISI  temp  RH  wind  rain  ...  month_nov  \\\n0  7  5  86.2  26.2   94.3  5.1   8.2  51   6.7   0.0  ...          0   \n1  7  4  90.6  35.4  669.1  6.7  18.0  33   0.9   0.0  ...          0   \n2  7  4  90.6  43.7  686.9  6.7  14.6  33   1.3   0.0  ...          0   \n3  8  6  91.7  33.3   77.5  9.0   8.3  97   4.0   0.2  ...          0   \n4  8  6  89.3  51.3  102.2  9.6  11.4  99   1.8   0.0  ...          0   \n\n   month_oct  month_sep  day_fri  day_mon  day_sat  day_sun  day_thu  day_tue  \\\n0          0          0        1        0        0        0        0        0   \n1          1          0        0        0        0        0        0        1   \n2          1          0        0        0        1        0        0        0   \n3          0          0        1        0        0        0        0        0   \n4          0          0        0        0        0        1        0        0   \n\n   day_wed  \n0        0  \n1        0  \n2        0  \n3        0  \n4        0  \n\n[5 rows x 30 columns]",
      "text/html": "<div>\n<style scoped>\n    .dataframe tbody tr th:only-of-type {\n        vertical-align: middle;\n    }\n\n    .dataframe tbody tr th {\n        vertical-align: top;\n    }\n\n    .dataframe thead th {\n        text-align: right;\n    }\n</style>\n<table border=\"1\" class=\"dataframe\">\n  <thead>\n    <tr style=\"text-align: right;\">\n      <th></th>\n      <th>X</th>\n      <th>Y</th>\n      <th>FFMC</th>\n      <th>DMC</th>\n      <th>DC</th>\n      <th>ISI</th>\n      <th>temp</th>\n      <th>RH</th>\n      <th>wind</th>\n      <th>rain</th>\n      <th>...</th>\n      <th>month_nov</th>\n      <th>month_oct</th>\n      <th>month_sep</th>\n      <th>day_fri</th>\n      <th>day_mon</th>\n      <th>day_sat</th>\n      <th>day_sun</th>\n      <th>day_thu</th>\n      <th>day_tue</th>\n      <th>day_wed</th>\n    </tr>\n  </thead>\n  <tbody>\n    <tr>\n      <th>0</th>\n      <td>7</td>\n      <td>5</td>\n      <td>86.2</td>\n      <td>26.2</td>\n      <td>94.3</td>\n      <td>5.1</td>\n      <td>8.2</td>\n      <td>51</td>\n      <td>6.7</td>\n      <td>0.0</td>\n      <td>...</td>\n      <td>0</td>\n      <td>0</td>\n      <td>0</td>\n      <td>1</td>\n      <td>0</td>\n      <td>0</td>\n      <td>0</td>\n      <td>0</td>\n      <td>0</td>\n      <td>0</td>\n    </tr>\n    <tr>\n      <th>1</th>\n      <td>7</td>\n      <td>4</td>\n      <td>90.6</td>\n      <td>35.4</td>\n      <td>669.1</td>\n      <td>6.7</td>\n      <td>18.0</td>\n      <td>33</td>\n      <td>0.9</td>\n      <td>0.0</td>\n      <td>...</td>\n      <td>0</td>\n      <td>1</td>\n      <td>0</td>\n      <td>0</td>\n      <td>0</td>\n      <td>0</td>\n      <td>0</td>\n      <td>0</td>\n      <td>1</td>\n      <td>0</td>\n    </tr>\n    <tr>\n      <th>2</th>\n      <td>7</td>\n      <td>4</td>\n      <td>90.6</td>\n      <td>43.7</td>\n      <td>686.9</td>\n      <td>6.7</td>\n      <td>14.6</td>\n      <td>33</td>\n      <td>1.3</td>\n      <td>0.0</td>\n      <td>...</td>\n      <td>0</td>\n      <td>1</td>\n      <td>0</td>\n      <td>0</td>\n      <td>0</td>\n      <td>1</td>\n      <td>0</td>\n      <td>0</td>\n      <td>0</td>\n      <td>0</td>\n    </tr>\n    <tr>\n      <th>3</th>\n      <td>8</td>\n      <td>6</td>\n      <td>91.7</td>\n      <td>33.3</td>\n      <td>77.5</td>\n      <td>9.0</td>\n      <td>8.3</td>\n      <td>97</td>\n      <td>4.0</td>\n      <td>0.2</td>\n      <td>...</td>\n      <td>0</td>\n      <td>0</td>\n      <td>0</td>\n      <td>1</td>\n      <td>0</td>\n      <td>0</td>\n      <td>0</td>\n      <td>0</td>\n      <td>0</td>\n      <td>0</td>\n    </tr>\n    <tr>\n      <th>4</th>\n      <td>8</td>\n      <td>6</td>\n      <td>89.3</td>\n      <td>51.3</td>\n      <td>102.2</td>\n      <td>9.6</td>\n      <td>11.4</td>\n      <td>99</td>\n      <td>1.8</td>\n      <td>0.0</td>\n      <td>...</td>\n      <td>0</td>\n      <td>0</td>\n      <td>0</td>\n      <td>0</td>\n      <td>0</td>\n      <td>0</td>\n      <td>1</td>\n      <td>0</td>\n      <td>0</td>\n      <td>0</td>\n    </tr>\n  </tbody>\n</table>\n<p>5 rows × 30 columns</p>\n</div>"
     },
     "metadata": {},
     "execution_count": 31
    }
   ],
   "source": [
    "Xdata = fires_df.copy()\n",
    "\n",
    "data_binary_encoded = pd.get_dummies(Xdata)\n",
    "data_binary_encoded.head()"
   ]
  },
  {
   "cell_type": "code",
   "execution_count": 32,
   "metadata": {
    "tags": []
   },
   "outputs": [
    {
     "output_type": "stream",
     "name": "stdout",
     "text": "(517, 29) (517, 1)\n"
    }
   ],
   "source": [
    "X = data_binary_encoded.drop(columns=[\"area\"])\n",
    "y = fires_df[\"area\"].values.reshape(-1,1)\n",
    "print(X.shape, y.shape)"
   ]
  },
  {
   "cell_type": "code",
   "execution_count": 33,
   "metadata": {},
   "outputs": [
    {
     "output_type": "execute_result",
     "data": {
      "text/plain": "0    0.0\n1    0.0\n2    0.0\n3    0.0\n4    0.0\nName: area, dtype: float64"
     },
     "metadata": {},
     "execution_count": 33
    }
   ],
   "source": [
    "#We have to set a Target Value and Set all independent variables as the \"data\"\n",
    "target = fires_df[\"area\"]\n",
    "target.head()\n"
   ]
  },
  {
   "cell_type": "code",
   "execution_count": 34,
   "metadata": {},
   "outputs": [
    {
     "output_type": "execute_result",
     "data": {
      "text/plain": "   X  Y  FFMC   DMC     DC  ISI  temp  RH  wind  rain  ...  month_nov  \\\n0  7  5  86.2  26.2   94.3  5.1   8.2  51   6.7   0.0  ...          0   \n1  7  4  90.6  35.4  669.1  6.7  18.0  33   0.9   0.0  ...          0   \n2  7  4  90.6  43.7  686.9  6.7  14.6  33   1.3   0.0  ...          0   \n3  8  6  91.7  33.3   77.5  9.0   8.3  97   4.0   0.2  ...          0   \n4  8  6  89.3  51.3  102.2  9.6  11.4  99   1.8   0.0  ...          0   \n\n   month_oct  month_sep  day_fri  day_mon  day_sat  day_sun  day_thu  day_tue  \\\n0          0          0        1        0        0        0        0        0   \n1          1          0        0        0        0        0        0        1   \n2          1          0        0        0        1        0        0        0   \n3          0          0        1        0        0        0        0        0   \n4          0          0        0        0        0        1        0        0   \n\n   day_wed  \n0        0  \n1        0  \n2        0  \n3        0  \n4        0  \n\n[5 rows x 29 columns]",
      "text/html": "<div>\n<style scoped>\n    .dataframe tbody tr th:only-of-type {\n        vertical-align: middle;\n    }\n\n    .dataframe tbody tr th {\n        vertical-align: top;\n    }\n\n    .dataframe thead th {\n        text-align: right;\n    }\n</style>\n<table border=\"1\" class=\"dataframe\">\n  <thead>\n    <tr style=\"text-align: right;\">\n      <th></th>\n      <th>X</th>\n      <th>Y</th>\n      <th>FFMC</th>\n      <th>DMC</th>\n      <th>DC</th>\n      <th>ISI</th>\n      <th>temp</th>\n      <th>RH</th>\n      <th>wind</th>\n      <th>rain</th>\n      <th>...</th>\n      <th>month_nov</th>\n      <th>month_oct</th>\n      <th>month_sep</th>\n      <th>day_fri</th>\n      <th>day_mon</th>\n      <th>day_sat</th>\n      <th>day_sun</th>\n      <th>day_thu</th>\n      <th>day_tue</th>\n      <th>day_wed</th>\n    </tr>\n  </thead>\n  <tbody>\n    <tr>\n      <th>0</th>\n      <td>7</td>\n      <td>5</td>\n      <td>86.2</td>\n      <td>26.2</td>\n      <td>94.3</td>\n      <td>5.1</td>\n      <td>8.2</td>\n      <td>51</td>\n      <td>6.7</td>\n      <td>0.0</td>\n      <td>...</td>\n      <td>0</td>\n      <td>0</td>\n      <td>0</td>\n      <td>1</td>\n      <td>0</td>\n      <td>0</td>\n      <td>0</td>\n      <td>0</td>\n      <td>0</td>\n      <td>0</td>\n    </tr>\n    <tr>\n      <th>1</th>\n      <td>7</td>\n      <td>4</td>\n      <td>90.6</td>\n      <td>35.4</td>\n      <td>669.1</td>\n      <td>6.7</td>\n      <td>18.0</td>\n      <td>33</td>\n      <td>0.9</td>\n      <td>0.0</td>\n      <td>...</td>\n      <td>0</td>\n      <td>1</td>\n      <td>0</td>\n      <td>0</td>\n      <td>0</td>\n      <td>0</td>\n      <td>0</td>\n      <td>0</td>\n      <td>1</td>\n      <td>0</td>\n    </tr>\n    <tr>\n      <th>2</th>\n      <td>7</td>\n      <td>4</td>\n      <td>90.6</td>\n      <td>43.7</td>\n      <td>686.9</td>\n      <td>6.7</td>\n      <td>14.6</td>\n      <td>33</td>\n      <td>1.3</td>\n      <td>0.0</td>\n      <td>...</td>\n      <td>0</td>\n      <td>1</td>\n      <td>0</td>\n      <td>0</td>\n      <td>0</td>\n      <td>1</td>\n      <td>0</td>\n      <td>0</td>\n      <td>0</td>\n      <td>0</td>\n    </tr>\n    <tr>\n      <th>3</th>\n      <td>8</td>\n      <td>6</td>\n      <td>91.7</td>\n      <td>33.3</td>\n      <td>77.5</td>\n      <td>9.0</td>\n      <td>8.3</td>\n      <td>97</td>\n      <td>4.0</td>\n      <td>0.2</td>\n      <td>...</td>\n      <td>0</td>\n      <td>0</td>\n      <td>0</td>\n      <td>1</td>\n      <td>0</td>\n      <td>0</td>\n      <td>0</td>\n      <td>0</td>\n      <td>0</td>\n      <td>0</td>\n    </tr>\n    <tr>\n      <th>4</th>\n      <td>8</td>\n      <td>6</td>\n      <td>89.3</td>\n      <td>51.3</td>\n      <td>102.2</td>\n      <td>9.6</td>\n      <td>11.4</td>\n      <td>99</td>\n      <td>1.8</td>\n      <td>0.0</td>\n      <td>...</td>\n      <td>0</td>\n      <td>0</td>\n      <td>0</td>\n      <td>0</td>\n      <td>0</td>\n      <td>0</td>\n      <td>1</td>\n      <td>0</td>\n      <td>0</td>\n      <td>0</td>\n    </tr>\n  </tbody>\n</table>\n<p>5 rows × 29 columns</p>\n</div>"
     },
     "metadata": {},
     "execution_count": 34
    }
   ],
   "source": [
    "data = data_binary_encoded.drop(columns=[\"area\"], axis=1)\n",
    "feature_names = data.columns\n",
    "data.head()"
   ]
  },
  {
   "cell_type": "code",
   "execution_count": 35,
   "metadata": {},
   "outputs": [],
   "source": [
    "from sklearn.model_selection import train_test_split\n",
    "X_train, X_test, y_train, y_test = train_test_split(data, target, random_state=42)"
   ]
  },
  {
   "cell_type": "code",
   "execution_count": null,
   "metadata": {},
   "outputs": [],
   "source": [
    "#Decision Tree Classifer\n",
    "#clf = tree.DecisionTreeClassifier()\n",
    "#clf = clf.fit(X_train, y_train)\n",
    "#clf.score(X_test, y_test)"
   ]
  },
  {
   "cell_type": "code",
   "execution_count": null,
   "metadata": {},
   "outputs": [],
   "source": [
    "#classifier Issues: error unkonwn label type continues. particularly on cl.fit(X_train, y_train), so I printed my y train and x_train values. according to slack overflow the suggestion is \"it seems the y_train values are not discrete bu tcointuous and you are trying a classification task on them\""
   ]
  },
  {
   "cell_type": "code",
   "execution_count": 42,
   "metadata": {},
   "outputs": [
    {
     "output_type": "execute_result",
     "data": {
      "text/plain": "446    0.00\n515    0.00\n154    1.46\n25     0.00\n265    0.79\nName: area, dtype: float64"
     },
     "metadata": {},
     "execution_count": 42
    }
   ],
   "source": [
    "y_train.head()"
   ]
  },
  {
   "cell_type": "code",
   "execution_count": 43,
   "metadata": {},
   "outputs": [
    {
     "output_type": "execute_result",
     "data": {
      "text/plain": "     X  Y  FFMC    DMC     DC   ISI  temp  RH  wind  rain  ...  month_nov  \\\n446  6  5  92.0  203.2  664.5   8.1  19.1  70   2.2   0.0  ...          0   \n515  1  4  94.4  146.0  614.7  11.3  25.6  42   4.0   0.0  ...          0   \n154  1  5  93.4  145.4  721.4   8.1  29.6  27   2.7   0.0  ...          0   \n25   7  4  91.4  142.4  601.4  10.6  16.3  60   5.4   0.0  ...          0   \n265  4  4  93.7  102.2  550.3  14.6  22.1  54   7.6   0.0  ...          0   \n\n     month_oct  month_sep  day_fri  day_mon  day_sat  day_sun  day_thu  \\\n446          0          0        0        0        0        1        0   \n515          0          0        0        0        1        0        0   \n154          0          1        0        0        1        0        0   \n25           0          0        0        0        0        1        0   \n265          0          0        0        0        0        0        0   \n\n     day_tue  day_wed  \n446        0        0  \n515        0        0  \n154        0        0  \n25         0        0  \n265        1        0  \n\n[5 rows x 29 columns]",
      "text/html": "<div>\n<style scoped>\n    .dataframe tbody tr th:only-of-type {\n        vertical-align: middle;\n    }\n\n    .dataframe tbody tr th {\n        vertical-align: top;\n    }\n\n    .dataframe thead th {\n        text-align: right;\n    }\n</style>\n<table border=\"1\" class=\"dataframe\">\n  <thead>\n    <tr style=\"text-align: right;\">\n      <th></th>\n      <th>X</th>\n      <th>Y</th>\n      <th>FFMC</th>\n      <th>DMC</th>\n      <th>DC</th>\n      <th>ISI</th>\n      <th>temp</th>\n      <th>RH</th>\n      <th>wind</th>\n      <th>rain</th>\n      <th>...</th>\n      <th>month_nov</th>\n      <th>month_oct</th>\n      <th>month_sep</th>\n      <th>day_fri</th>\n      <th>day_mon</th>\n      <th>day_sat</th>\n      <th>day_sun</th>\n      <th>day_thu</th>\n      <th>day_tue</th>\n      <th>day_wed</th>\n    </tr>\n  </thead>\n  <tbody>\n    <tr>\n      <th>446</th>\n      <td>6</td>\n      <td>5</td>\n      <td>92.0</td>\n      <td>203.2</td>\n      <td>664.5</td>\n      <td>8.1</td>\n      <td>19.1</td>\n      <td>70</td>\n      <td>2.2</td>\n      <td>0.0</td>\n      <td>...</td>\n      <td>0</td>\n      <td>0</td>\n      <td>0</td>\n      <td>0</td>\n      <td>0</td>\n      <td>0</td>\n      <td>1</td>\n      <td>0</td>\n      <td>0</td>\n      <td>0</td>\n    </tr>\n    <tr>\n      <th>515</th>\n      <td>1</td>\n      <td>4</td>\n      <td>94.4</td>\n      <td>146.0</td>\n      <td>614.7</td>\n      <td>11.3</td>\n      <td>25.6</td>\n      <td>42</td>\n      <td>4.0</td>\n      <td>0.0</td>\n      <td>...</td>\n      <td>0</td>\n      <td>0</td>\n      <td>0</td>\n      <td>0</td>\n      <td>0</td>\n      <td>1</td>\n      <td>0</td>\n      <td>0</td>\n      <td>0</td>\n      <td>0</td>\n    </tr>\n    <tr>\n      <th>154</th>\n      <td>1</td>\n      <td>5</td>\n      <td>93.4</td>\n      <td>145.4</td>\n      <td>721.4</td>\n      <td>8.1</td>\n      <td>29.6</td>\n      <td>27</td>\n      <td>2.7</td>\n      <td>0.0</td>\n      <td>...</td>\n      <td>0</td>\n      <td>0</td>\n      <td>1</td>\n      <td>0</td>\n      <td>0</td>\n      <td>1</td>\n      <td>0</td>\n      <td>0</td>\n      <td>0</td>\n      <td>0</td>\n    </tr>\n    <tr>\n      <th>25</th>\n      <td>7</td>\n      <td>4</td>\n      <td>91.4</td>\n      <td>142.4</td>\n      <td>601.4</td>\n      <td>10.6</td>\n      <td>16.3</td>\n      <td>60</td>\n      <td>5.4</td>\n      <td>0.0</td>\n      <td>...</td>\n      <td>0</td>\n      <td>0</td>\n      <td>0</td>\n      <td>0</td>\n      <td>0</td>\n      <td>0</td>\n      <td>1</td>\n      <td>0</td>\n      <td>0</td>\n      <td>0</td>\n    </tr>\n    <tr>\n      <th>265</th>\n      <td>4</td>\n      <td>4</td>\n      <td>93.7</td>\n      <td>102.2</td>\n      <td>550.3</td>\n      <td>14.6</td>\n      <td>22.1</td>\n      <td>54</td>\n      <td>7.6</td>\n      <td>0.0</td>\n      <td>...</td>\n      <td>0</td>\n      <td>0</td>\n      <td>0</td>\n      <td>0</td>\n      <td>0</td>\n      <td>0</td>\n      <td>0</td>\n      <td>0</td>\n      <td>1</td>\n      <td>0</td>\n    </tr>\n  </tbody>\n</table>\n<p>5 rows × 29 columns</p>\n</div>"
     },
     "metadata": {},
     "execution_count": 43
    }
   ],
   "source": [
    "X_train.head()"
   ]
  },
  {
   "cell_type": "code",
   "execution_count": 36,
   "metadata": {},
   "outputs": [],
   "source": [
    "# Attempt at 'Decision Tree Regressor' \n",
    "from sklearn.tree import DecisionTreeRegressor"
   ]
  },
  {
   "cell_type": "code",
   "execution_count": 37,
   "metadata": {},
   "outputs": [
    {
     "output_type": "execute_result",
     "data": {
      "text/plain": "-0.13483178065899049"
     },
     "metadata": {},
     "execution_count": 37
    }
   ],
   "source": [
    "clf = tree.DecisionTreeRegressor()\n",
    "clf = clf.fit(X_train, y_train)\n",
    "clf.score(X_test, y_test)"
   ]
  },
  {
   "cell_type": "code",
   "execution_count": null,
   "metadata": {},
   "outputs": [],
   "source": [
    "# Checking our Random Forest Classier Vs. Decision Tree Classifer \n",
    "\n",
    "#from sklearn.ensemble import RandomForestClassifier\n",
    "#rf = RandomForestClassifier(n_estimators=200)\n",
    "#rf = rf.fit(X_train, y_train)\n",
    "#rf.score(X_test, y_test)"
   ]
  },
  {
   "cell_type": "code",
   "execution_count": 38,
   "metadata": {},
   "outputs": [],
   "source": [
    "# check out randorm forest regressor \n",
    "from sklearn.ensemble import RandomForestRegressor"
   ]
  },
  {
   "cell_type": "code",
   "execution_count": 39,
   "metadata": {},
   "outputs": [
    {
     "output_type": "execute_result",
     "data": {
      "text/plain": "-0.004608935511644097"
     },
     "metadata": {},
     "execution_count": 39
    }
   ],
   "source": [
    "from sklearn.ensemble import RandomForestRegressor\n",
    "rf = RandomForestRegressor(n_estimators=200)\n",
    "rf = rf.fit(X_train, y_train)\n",
    "rf.score(X_test, y_test)"
   ]
  },
  {
   "cell_type": "code",
   "execution_count": 40,
   "metadata": {},
   "outputs": [
    {
     "output_type": "execute_result",
     "data": {
      "text/plain": "[(0.20372459788236869, 'temp'),\n (0.15907750019058917, 'DMC'),\n (0.12734196548279308, 'RH'),\n (0.08281829721903598, 'Y'),\n (0.06535801607839195, 'FFMC'),\n (0.061892253705316765, 'X'),\n (0.05802826965805848, 'wind'),\n (0.050938136804786836, 'DC'),\n (0.04865583413916467, 'ISI'),\n (0.029558487226462808, 'day_thu'),\n (0.024230450014151746, 'day_sat'),\n (0.022826224955197046, 'day_mon'),\n (0.019082203746042452, 'month_jul'),\n (0.011972214715914748, 'day_wed'),\n (0.009858195035415043, 'day_sun'),\n (0.006284920787020204, 'month_aug'),\n (0.006226468874204224, 'month_sep'),\n (0.005531898407938316, 'day_tue'),\n (0.0019036276508062916, 'month_may'),\n (0.0017337696699084766, 'day_fri'),\n (0.0009363239330270866, 'month_mar'),\n (0.00048778931970045174, 'month_feb'),\n (0.00046579231016723887, 'month_oct'),\n (0.000461016669078632, 'month_jun'),\n (0.0003741172711403253, 'rain'),\n (0.0002105197957667935, 'month_dec'),\n (2.08096265788857e-05, 'month_apr'),\n (1.966550878046871e-07, 'month_nov'),\n (1.0217588561727003e-07, 'month_jan')]"
     },
     "metadata": {},
     "execution_count": 40
    }
   ],
   "source": [
    "sorted(zip(rf.feature_importances_, feature_names), reverse=True)"
   ]
  }
 ]
}