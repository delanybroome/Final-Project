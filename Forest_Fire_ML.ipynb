{
 "metadata": {
  "language_info": {
   "codemirror_mode": {
    "name": "ipython",
    "version": 3
   },
   "file_extension": ".py",
   "mimetype": "text/x-python",
   "name": "python",
   "nbconvert_exporter": "python",
   "pygments_lexer": "ipython3",
   "version": "3.7.6-final"
  },
  "orig_nbformat": 2,
  "kernelspec": {
   "name": "python_defaultSpec_1600352487805",
   "display_name": "Python 3.7.6 64-bit ('base': conda)"
  }
 },
 "nbformat": 4,
 "nbformat_minor": 2,
 "cells": [
  {
   "cell_type": "code",
   "execution_count": 16,
   "metadata": {},
   "outputs": [],
   "source": [
    "# import dependencies\n",
    "%matplotlib inline\n",
    "import matplotlib.pyplot as plt\n",
    "import pandas as pd\n",
    "import numpy as np\n",
    "import sklearn\n",
    "\n",
    "import warnings\n",
    "warnings.simplefilter('ignore')"
   ]
  },
  {
   "cell_type": "code",
   "execution_count": 17,
   "metadata": {},
   "outputs": [
    {
     "output_type": "execute_result",
     "data": {
      "text/plain": "   X  Y month  day  FFMC   DMC     DC  ISI  temp  RH  wind  rain  area\n0  7  5   mar  fri  86.2  26.2   94.3  5.1   8.2  51   6.7   0.0   0.0\n1  7  4   oct  tue  90.6  35.4  669.1  6.7  18.0  33   0.9   0.0   0.0\n2  7  4   oct  sat  90.6  43.7  686.9  6.7  14.6  33   1.3   0.0   0.0\n3  8  6   mar  fri  91.7  33.3   77.5  9.0   8.3  97   4.0   0.2   0.0\n4  8  6   mar  sun  89.3  51.3  102.2  9.6  11.4  99   1.8   0.0   0.0",
      "text/html": "<div>\n<style scoped>\n    .dataframe tbody tr th:only-of-type {\n        vertical-align: middle;\n    }\n\n    .dataframe tbody tr th {\n        vertical-align: top;\n    }\n\n    .dataframe thead th {\n        text-align: right;\n    }\n</style>\n<table border=\"1\" class=\"dataframe\">\n  <thead>\n    <tr style=\"text-align: right;\">\n      <th></th>\n      <th>X</th>\n      <th>Y</th>\n      <th>month</th>\n      <th>day</th>\n      <th>FFMC</th>\n      <th>DMC</th>\n      <th>DC</th>\n      <th>ISI</th>\n      <th>temp</th>\n      <th>RH</th>\n      <th>wind</th>\n      <th>rain</th>\n      <th>area</th>\n    </tr>\n  </thead>\n  <tbody>\n    <tr>\n      <th>0</th>\n      <td>7</td>\n      <td>5</td>\n      <td>mar</td>\n      <td>fri</td>\n      <td>86.2</td>\n      <td>26.2</td>\n      <td>94.3</td>\n      <td>5.1</td>\n      <td>8.2</td>\n      <td>51</td>\n      <td>6.7</td>\n      <td>0.0</td>\n      <td>0.0</td>\n    </tr>\n    <tr>\n      <th>1</th>\n      <td>7</td>\n      <td>4</td>\n      <td>oct</td>\n      <td>tue</td>\n      <td>90.6</td>\n      <td>35.4</td>\n      <td>669.1</td>\n      <td>6.7</td>\n      <td>18.0</td>\n      <td>33</td>\n      <td>0.9</td>\n      <td>0.0</td>\n      <td>0.0</td>\n    </tr>\n    <tr>\n      <th>2</th>\n      <td>7</td>\n      <td>4</td>\n      <td>oct</td>\n      <td>sat</td>\n      <td>90.6</td>\n      <td>43.7</td>\n      <td>686.9</td>\n      <td>6.7</td>\n      <td>14.6</td>\n      <td>33</td>\n      <td>1.3</td>\n      <td>0.0</td>\n      <td>0.0</td>\n    </tr>\n    <tr>\n      <th>3</th>\n      <td>8</td>\n      <td>6</td>\n      <td>mar</td>\n      <td>fri</td>\n      <td>91.7</td>\n      <td>33.3</td>\n      <td>77.5</td>\n      <td>9.0</td>\n      <td>8.3</td>\n      <td>97</td>\n      <td>4.0</td>\n      <td>0.2</td>\n      <td>0.0</td>\n    </tr>\n    <tr>\n      <th>4</th>\n      <td>8</td>\n      <td>6</td>\n      <td>mar</td>\n      <td>sun</td>\n      <td>89.3</td>\n      <td>51.3</td>\n      <td>102.2</td>\n      <td>9.6</td>\n      <td>11.4</td>\n      <td>99</td>\n      <td>1.8</td>\n      <td>0.0</td>\n      <td>0.0</td>\n    </tr>\n  </tbody>\n</table>\n</div>"
     },
     "metadata": {},
     "execution_count": 17
    }
   ],
   "source": [
    "# read data\n",
    "fires_df = pd.read_csv(\"data/forestfires.csv\")\n",
    "fires_df.head()"
   ]
  },
  {
   "cell_type": "code",
   "execution_count": 18,
   "metadata": {
    "tags": []
   },
   "outputs": [
    {
     "output_type": "stream",
     "name": "stdout",
     "text": "(517,) (517, 1)\n"
    }
   ],
   "source": [
    "#Select X and Y Values\n",
    "X = fires_df[\"X\"]\n",
    "y = fires_df[\"Y\"].values.reshape(-1,1)\n",
    "print(X.shape, y.shape)"
   ]
  },
  {
   "cell_type": "code",
   "execution_count": 19,
   "metadata": {
    "tags": []
   },
   "outputs": [
    {
     "output_type": "stream",
     "name": "stdout",
     "text": "(387,)\n(387, 1)\n(130,)\n"
    }
   ],
   "source": [
    "# Use train_test_split to create training and testing data\n",
    "from sklearn.model_selection import train_test_split\n",
    "\n",
    "X_train, X_test, y_train, y_test = train_test_split(X, y, random_state=42)\n",
    "print(X_train.shape)\n",
    "print(y_train.shape)\n",
    "print(X_test.shape)"
   ]
  },
  {
   "cell_type": "code",
   "execution_count": 21,
   "metadata": {},
   "outputs": [],
   "source": [
    "from sklearn.model_selection import train_test_split\n",
    "\n",
    "X_train, X_test, y_train, y_test = train_test_split(X, y, random_state=1)"
   ]
  },
  {
   "cell_type": "code",
   "execution_count": 20,
   "metadata": {},
   "outputs": [
    {
     "output_type": "error",
     "ename": "ValueError",
     "evalue": "Expected 2D array, got 1D array instead:\narray=[6 1 1 7 4 4 2 9 1 5 3 2 6 3 2 4 6 4 4 7 8 2 2 7 8 8 6 6 7 8 6 5 8 3 5 2 5\n 7 4 8 4 8 2 4 1 8 6 8 3 7 8 8 3 4 7 2 8 3 3 6 1 2 5 2 5 8 7 1 4 2 1 8 2 4\n 6 8 2 4 4 1 4 1 6 8 3 4 8 1 2 6 8 2 3 5 4 8 5 3 3 6 3 6 7 4 2 3 2 6 4 6 6\n 1 6 6 9 4 2 6 3 6 6 8 3 7 1 2 6 1 7 6 3 4 5 2 8 4 1 3 9 3 1 7 6 3 6 3 7 7\n 5 2 1 4 3 4 2 3 7 2 5 6 2 8 1 7 6 8 6 6 8 2 3 3 8 4 5 8 7 7 9 8 9 8 3 4 3\n 6 3 3 4 7 5 4 3 2 1 4 8 1 4 6 4 4 2 3 1 2 8 4 7 6 6 6 5 8 6 8 3 4 4 6 9 4\n 7 2 4 7 9 2 6 6 6 8 8 8 1 3 7 1 7 1 8 3 4 4 2 6 6 2 6 1 2 7 2 4 2 6 7 6 8\n 9 2 3 3 6 8 5 9 2 6 6 2 4 4 7 8 4 4 7 2 6 2 7 7 7 4 8 1 8 3 5 4 6 6 4 1 3\n 6 2 7 4 4 7 7 3 8 4 2 1 4 6 7 6 2 4 4 8 2 4 4 2 4 4 6 3 1 5 4 6 6 6 3 7 6\n 5 7 4 4 4 5 1 5 7 7 6 1 2 8 2 4 4 6 8 6 5 6 7 7 4 1 2 2 7 7 4 8 4 2 8 4 9\n 1 3 4 1 8 3 4 6 3 6 6 6 4 4 2 2 2].\nReshape your data either using array.reshape(-1, 1) if your data has a single feature or array.reshape(1, -1) if it contains a single sample.",
     "traceback": [
      "\u001b[0;31m---------------------------------------------------------------------------\u001b[0m",
      "\u001b[0;31mValueError\u001b[0m                                Traceback (most recent call last)",
      "\u001b[0;32m<ipython-input-20-337fa89ddebf>\u001b[0m in \u001b[0;36m<module>\u001b[0;34m\u001b[0m\n\u001b[1;32m      4\u001b[0m \u001b[0;34m\u001b[0m\u001b[0m\n\u001b[1;32m      5\u001b[0m \u001b[0mmodel\u001b[0m \u001b[0;34m=\u001b[0m \u001b[0mLinearRegression\u001b[0m\u001b[0;34m(\u001b[0m\u001b[0;34m)\u001b[0m\u001b[0;34m\u001b[0m\u001b[0;34m\u001b[0m\u001b[0m\n\u001b[0;32m----> 6\u001b[0;31m \u001b[0mmodel\u001b[0m\u001b[0;34m.\u001b[0m\u001b[0mfit\u001b[0m\u001b[0;34m(\u001b[0m\u001b[0mX_train\u001b[0m\u001b[0;34m,\u001b[0m \u001b[0my_train\u001b[0m\u001b[0;34m)\u001b[0m\u001b[0;34m\u001b[0m\u001b[0;34m\u001b[0m\u001b[0m\n\u001b[0m",
      "\u001b[0;32m/opt/anaconda3/lib/python3.7/site-packages/sklearn/linear_model/_base.py\u001b[0m in \u001b[0;36mfit\u001b[0;34m(self, X, y, sample_weight)\u001b[0m\n\u001b[1;32m    490\u001b[0m         \u001b[0mn_jobs_\u001b[0m \u001b[0;34m=\u001b[0m \u001b[0mself\u001b[0m\u001b[0;34m.\u001b[0m\u001b[0mn_jobs\u001b[0m\u001b[0;34m\u001b[0m\u001b[0;34m\u001b[0m\u001b[0m\n\u001b[1;32m    491\u001b[0m         X, y = check_X_y(X, y, accept_sparse=['csr', 'csc', 'coo'],\n\u001b[0;32m--> 492\u001b[0;31m                          y_numeric=True, multi_output=True)\n\u001b[0m\u001b[1;32m    493\u001b[0m \u001b[0;34m\u001b[0m\u001b[0m\n\u001b[1;32m    494\u001b[0m         \u001b[0;32mif\u001b[0m \u001b[0msample_weight\u001b[0m \u001b[0;32mis\u001b[0m \u001b[0;32mnot\u001b[0m \u001b[0;32mNone\u001b[0m\u001b[0;34m:\u001b[0m\u001b[0;34m\u001b[0m\u001b[0;34m\u001b[0m\u001b[0m\n",
      "\u001b[0;32m/opt/anaconda3/lib/python3.7/site-packages/sklearn/utils/validation.py\u001b[0m in \u001b[0;36mcheck_X_y\u001b[0;34m(X, y, accept_sparse, accept_large_sparse, dtype, order, copy, force_all_finite, ensure_2d, allow_nd, multi_output, ensure_min_samples, ensure_min_features, y_numeric, warn_on_dtype, estimator)\u001b[0m\n\u001b[1;32m    753\u001b[0m                     \u001b[0mensure_min_features\u001b[0m\u001b[0;34m=\u001b[0m\u001b[0mensure_min_features\u001b[0m\u001b[0;34m,\u001b[0m\u001b[0;34m\u001b[0m\u001b[0;34m\u001b[0m\u001b[0m\n\u001b[1;32m    754\u001b[0m                     \u001b[0mwarn_on_dtype\u001b[0m\u001b[0;34m=\u001b[0m\u001b[0mwarn_on_dtype\u001b[0m\u001b[0;34m,\u001b[0m\u001b[0;34m\u001b[0m\u001b[0;34m\u001b[0m\u001b[0m\n\u001b[0;32m--> 755\u001b[0;31m                     estimator=estimator)\n\u001b[0m\u001b[1;32m    756\u001b[0m     \u001b[0;32mif\u001b[0m \u001b[0mmulti_output\u001b[0m\u001b[0;34m:\u001b[0m\u001b[0;34m\u001b[0m\u001b[0;34m\u001b[0m\u001b[0m\n\u001b[1;32m    757\u001b[0m         y = check_array(y, 'csr', force_all_finite=True, ensure_2d=False,\n",
      "\u001b[0;32m/opt/anaconda3/lib/python3.7/site-packages/sklearn/utils/validation.py\u001b[0m in \u001b[0;36mcheck_array\u001b[0;34m(array, accept_sparse, accept_large_sparse, dtype, order, copy, force_all_finite, ensure_2d, allow_nd, ensure_min_samples, ensure_min_features, warn_on_dtype, estimator)\u001b[0m\n\u001b[1;32m    554\u001b[0m                     \u001b[0;34m\"Reshape your data either using array.reshape(-1, 1) if \"\u001b[0m\u001b[0;34m\u001b[0m\u001b[0;34m\u001b[0m\u001b[0m\n\u001b[1;32m    555\u001b[0m                     \u001b[0;34m\"your data has a single feature or array.reshape(1, -1) \"\u001b[0m\u001b[0;34m\u001b[0m\u001b[0;34m\u001b[0m\u001b[0m\n\u001b[0;32m--> 556\u001b[0;31m                     \"if it contains a single sample.\".format(array))\n\u001b[0m\u001b[1;32m    557\u001b[0m \u001b[0;34m\u001b[0m\u001b[0m\n\u001b[1;32m    558\u001b[0m         \u001b[0;31m# in the future np.flexible dtypes will be handled like object dtypes\u001b[0m\u001b[0;34m\u001b[0m\u001b[0;34m\u001b[0m\u001b[0;34m\u001b[0m\u001b[0m\n",
      "\u001b[0;31mValueError\u001b[0m: Expected 2D array, got 1D array instead:\narray=[6 1 1 7 4 4 2 9 1 5 3 2 6 3 2 4 6 4 4 7 8 2 2 7 8 8 6 6 7 8 6 5 8 3 5 2 5\n 7 4 8 4 8 2 4 1 8 6 8 3 7 8 8 3 4 7 2 8 3 3 6 1 2 5 2 5 8 7 1 4 2 1 8 2 4\n 6 8 2 4 4 1 4 1 6 8 3 4 8 1 2 6 8 2 3 5 4 8 5 3 3 6 3 6 7 4 2 3 2 6 4 6 6\n 1 6 6 9 4 2 6 3 6 6 8 3 7 1 2 6 1 7 6 3 4 5 2 8 4 1 3 9 3 1 7 6 3 6 3 7 7\n 5 2 1 4 3 4 2 3 7 2 5 6 2 8 1 7 6 8 6 6 8 2 3 3 8 4 5 8 7 7 9 8 9 8 3 4 3\n 6 3 3 4 7 5 4 3 2 1 4 8 1 4 6 4 4 2 3 1 2 8 4 7 6 6 6 5 8 6 8 3 4 4 6 9 4\n 7 2 4 7 9 2 6 6 6 8 8 8 1 3 7 1 7 1 8 3 4 4 2 6 6 2 6 1 2 7 2 4 2 6 7 6 8\n 9 2 3 3 6 8 5 9 2 6 6 2 4 4 7 8 4 4 7 2 6 2 7 7 7 4 8 1 8 3 5 4 6 6 4 1 3\n 6 2 7 4 4 7 7 3 8 4 2 1 4 6 7 6 2 4 4 8 2 4 4 2 4 4 6 3 1 5 4 6 6 6 3 7 6\n 5 7 4 4 4 5 1 5 7 7 6 1 2 8 2 4 4 6 8 6 5 6 7 7 4 1 2 2 7 7 4 8 4 2 8 4 9\n 1 3 4 1 8 3 4 6 3 6 6 6 4 4 2 2 2].\nReshape your data either using array.reshape(-1, 1) if your data has a single feature or array.reshape(1, -1) if it contains a single sample."
     ]
    }
   ],
   "source": [
    "#linear regression model \n",
    "\n",
    "from sklearn.linear_model import LinearRegression\n",
    "\n",
    "model = LinearRegression()\n",
    "model.fit(X_train, y_train)"
   ]
  },
  {
   "cell_type": "code",
   "execution_count": 24,
   "metadata": {},
   "outputs": [
    {
     "output_type": "error",
     "ename": "ValueError",
     "evalue": "Expected 2D array, got 1D array instead:\narray=[6. 7. 4. 1. 5. 6. 8. 3. 1. 6. 5. 5. 4. 7. 5. 1. 4. 4. 7. 7. 8. 6. 4. 3.\n 6. 7. 6. 2. 4. 4. 5. 8. 4. 6. 3. 4. 3. 6. 2. 7. 1. 2. 3. 1. 4. 8. 7. 6.\n 7. 5. 6. 8. 6. 4. 2. 8. 2. 6. 1. 3. 6. 4. 2. 3. 6. 9. 3. 6. 6. 2. 2. 6.\n 8. 8. 2. 7. 2. 2. 2. 7. 4. 2. 6. 1. 4. 4. 3. 1. 3. 2. 6. 7. 1. 3. 9. 3.\n 4. 6. 3. 7. 6. 5. 3. 7. 4. 4. 5. 5. 1. 3. 1. 4. 5. 4. 3. 8. 2. 7. 6. 6.\n 4. 8. 6. 4. 2. 2. 6. 6. 8. 1. 9. 4. 6. 2. 2. 9. 6. 1. 2. 4. 8. 7. 4. 3.\n 6. 4. 8. 2. 1. 1. 8. 4. 2. 8. 4. 4. 3. 6. 7. 4. 8. 1. 1. 1. 8. 6. 3. 1.\n 8. 4. 6. 7. 9. 4. 4. 2. 2. 4. 1. 4. 6. 6. 2. 6. 8. 4. 2. 5. 3. 2. 6. 4.\n 6. 5. 8. 2. 2. 3. 7. 8. 4. 3. 6. 3. 7. 3. 5. 8. 1. 1. 4. 9. 6. 8. 5. 2.\n 8. 3. 3. 4. 3. 6. 5. 7. 4. 6. 6. 2. 3. 6. 5. 5. 1. 7. 2. 8. 4. 7. 8. 8.\n 2. 8. 4. 2. 2. 7. 3. 2. 6. 8. 7. 4. 3. 4. 6. 4. 6. 5. 1. 6. 6. 6. 3. 4.\n 9. 1. 1. 6. 8. 8. 3. 7. 4. 2. 7. 4. 7. 1. 4. 1. 7. 9. 8. 3. 6. 5. 3. 7.\n 1. 1. 7. 1. 1. 6. 2. 7. 3. 6. 1. 8. 2. 7. 4. 8. 4. 3. 2. 4. 7. 2. 5. 6.\n 8. 7. 4. 7. 6. 2. 6. 8. 3. 4. 7. 2. 7. 9. 4. 4. 7. 8. 5. 4. 2. 3. 5. 6.\n 6. 2. 3. 1. 3. 2. 4. 4. 8. 4. 8. 7. 6. 7. 4. 5. 8. 2. 1. 1. 7. 7. 4. 4.\n 4. 4. 2. 4. 1. 7. 2. 4. 6. 4. 6. 9. 6. 6. 4. 2. 6. 7. 1. 1. 4. 2. 2. 2.\n 5. 8. 7.].\nReshape your data either using array.reshape(-1, 1) if your data has a single feature or array.reshape(1, -1) if it contains a single sample.",
     "traceback": [
      "\u001b[0;31m---------------------------------------------------------------------------\u001b[0m",
      "\u001b[0;31mValueError\u001b[0m                                Traceback (most recent call last)",
      "\u001b[0;32m<ipython-input-24-3c3b77ca1be8>\u001b[0m in \u001b[0;36m<module>\u001b[0;34m\u001b[0m\n\u001b[1;32m      1\u001b[0m \u001b[0;31m#attempt at reshaping data\u001b[0m\u001b[0;34m\u001b[0m\u001b[0;34m\u001b[0m\u001b[0;34m\u001b[0m\u001b[0m\n\u001b[1;32m      2\u001b[0m \u001b[0;32mfrom\u001b[0m \u001b[0msklearn\u001b[0m\u001b[0;34m.\u001b[0m\u001b[0mpreprocessing\u001b[0m \u001b[0;32mimport\u001b[0m \u001b[0mStandardScaler\u001b[0m\u001b[0;34m\u001b[0m\u001b[0;34m\u001b[0m\u001b[0m\n\u001b[0;32m----> 3\u001b[0;31m \u001b[0mX_scaler\u001b[0m \u001b[0;34m=\u001b[0m \u001b[0mStandardScaler\u001b[0m\u001b[0;34m(\u001b[0m\u001b[0;34m)\u001b[0m\u001b[0;34m.\u001b[0m\u001b[0mfit\u001b[0m\u001b[0;34m(\u001b[0m\u001b[0mX_train\u001b[0m\u001b[0;34m)\u001b[0m\u001b[0;34m\u001b[0m\u001b[0;34m\u001b[0m\u001b[0m\n\u001b[0m\u001b[1;32m      4\u001b[0m \u001b[0my_scaler\u001b[0m \u001b[0;34m=\u001b[0m \u001b[0mStandardScaler\u001b[0m\u001b[0;34m(\u001b[0m\u001b[0;34m)\u001b[0m\u001b[0;34m.\u001b[0m\u001b[0mfit\u001b[0m\u001b[0;34m(\u001b[0m\u001b[0my_train\u001b[0m\u001b[0;34m)\u001b[0m\u001b[0;34m\u001b[0m\u001b[0;34m\u001b[0m\u001b[0m\n\u001b[1;32m      5\u001b[0m \u001b[0;34m\u001b[0m\u001b[0m\n",
      "\u001b[0;32m/opt/anaconda3/lib/python3.7/site-packages/sklearn/preprocessing/_data.py\u001b[0m in \u001b[0;36mfit\u001b[0;34m(self, X, y)\u001b[0m\n\u001b[1;32m    667\u001b[0m         \u001b[0;31m# Reset internal state before fitting\u001b[0m\u001b[0;34m\u001b[0m\u001b[0;34m\u001b[0m\u001b[0;34m\u001b[0m\u001b[0m\n\u001b[1;32m    668\u001b[0m         \u001b[0mself\u001b[0m\u001b[0;34m.\u001b[0m\u001b[0m_reset\u001b[0m\u001b[0;34m(\u001b[0m\u001b[0;34m)\u001b[0m\u001b[0;34m\u001b[0m\u001b[0;34m\u001b[0m\u001b[0m\n\u001b[0;32m--> 669\u001b[0;31m         \u001b[0;32mreturn\u001b[0m \u001b[0mself\u001b[0m\u001b[0;34m.\u001b[0m\u001b[0mpartial_fit\u001b[0m\u001b[0;34m(\u001b[0m\u001b[0mX\u001b[0m\u001b[0;34m,\u001b[0m \u001b[0my\u001b[0m\u001b[0;34m)\u001b[0m\u001b[0;34m\u001b[0m\u001b[0;34m\u001b[0m\u001b[0m\n\u001b[0m\u001b[1;32m    670\u001b[0m \u001b[0;34m\u001b[0m\u001b[0m\n\u001b[1;32m    671\u001b[0m     \u001b[0;32mdef\u001b[0m \u001b[0mpartial_fit\u001b[0m\u001b[0;34m(\u001b[0m\u001b[0mself\u001b[0m\u001b[0;34m,\u001b[0m \u001b[0mX\u001b[0m\u001b[0;34m,\u001b[0m \u001b[0my\u001b[0m\u001b[0;34m=\u001b[0m\u001b[0;32mNone\u001b[0m\u001b[0;34m)\u001b[0m\u001b[0;34m:\u001b[0m\u001b[0;34m\u001b[0m\u001b[0;34m\u001b[0m\u001b[0m\n",
      "\u001b[0;32m/opt/anaconda3/lib/python3.7/site-packages/sklearn/preprocessing/_data.py\u001b[0m in \u001b[0;36mpartial_fit\u001b[0;34m(self, X, y)\u001b[0m\n\u001b[1;32m    698\u001b[0m         X = check_array(X, accept_sparse=('csr', 'csc'),\n\u001b[1;32m    699\u001b[0m                         \u001b[0mestimator\u001b[0m\u001b[0;34m=\u001b[0m\u001b[0mself\u001b[0m\u001b[0;34m,\u001b[0m \u001b[0mdtype\u001b[0m\u001b[0;34m=\u001b[0m\u001b[0mFLOAT_DTYPES\u001b[0m\u001b[0;34m,\u001b[0m\u001b[0;34m\u001b[0m\u001b[0;34m\u001b[0m\u001b[0m\n\u001b[0;32m--> 700\u001b[0;31m                         force_all_finite='allow-nan')\n\u001b[0m\u001b[1;32m    701\u001b[0m \u001b[0;34m\u001b[0m\u001b[0m\n\u001b[1;32m    702\u001b[0m         \u001b[0;31m# Even in the case of `with_mean=False`, we update the mean anyway\u001b[0m\u001b[0;34m\u001b[0m\u001b[0;34m\u001b[0m\u001b[0;34m\u001b[0m\u001b[0m\n",
      "\u001b[0;32m/opt/anaconda3/lib/python3.7/site-packages/sklearn/utils/validation.py\u001b[0m in \u001b[0;36mcheck_array\u001b[0;34m(array, accept_sparse, accept_large_sparse, dtype, order, copy, force_all_finite, ensure_2d, allow_nd, ensure_min_samples, ensure_min_features, warn_on_dtype, estimator)\u001b[0m\n\u001b[1;32m    554\u001b[0m                     \u001b[0;34m\"Reshape your data either using array.reshape(-1, 1) if \"\u001b[0m\u001b[0;34m\u001b[0m\u001b[0;34m\u001b[0m\u001b[0m\n\u001b[1;32m    555\u001b[0m                     \u001b[0;34m\"your data has a single feature or array.reshape(1, -1) \"\u001b[0m\u001b[0;34m\u001b[0m\u001b[0;34m\u001b[0m\u001b[0m\n\u001b[0;32m--> 556\u001b[0;31m                     \"if it contains a single sample.\".format(array))\n\u001b[0m\u001b[1;32m    557\u001b[0m \u001b[0;34m\u001b[0m\u001b[0m\n\u001b[1;32m    558\u001b[0m         \u001b[0;31m# in the future np.flexible dtypes will be handled like object dtypes\u001b[0m\u001b[0;34m\u001b[0m\u001b[0;34m\u001b[0m\u001b[0;34m\u001b[0m\u001b[0m\n",
      "\u001b[0;31mValueError\u001b[0m: Expected 2D array, got 1D array instead:\narray=[6. 7. 4. 1. 5. 6. 8. 3. 1. 6. 5. 5. 4. 7. 5. 1. 4. 4. 7. 7. 8. 6. 4. 3.\n 6. 7. 6. 2. 4. 4. 5. 8. 4. 6. 3. 4. 3. 6. 2. 7. 1. 2. 3. 1. 4. 8. 7. 6.\n 7. 5. 6. 8. 6. 4. 2. 8. 2. 6. 1. 3. 6. 4. 2. 3. 6. 9. 3. 6. 6. 2. 2. 6.\n 8. 8. 2. 7. 2. 2. 2. 7. 4. 2. 6. 1. 4. 4. 3. 1. 3. 2. 6. 7. 1. 3. 9. 3.\n 4. 6. 3. 7. 6. 5. 3. 7. 4. 4. 5. 5. 1. 3. 1. 4. 5. 4. 3. 8. 2. 7. 6. 6.\n 4. 8. 6. 4. 2. 2. 6. 6. 8. 1. 9. 4. 6. 2. 2. 9. 6. 1. 2. 4. 8. 7. 4. 3.\n 6. 4. 8. 2. 1. 1. 8. 4. 2. 8. 4. 4. 3. 6. 7. 4. 8. 1. 1. 1. 8. 6. 3. 1.\n 8. 4. 6. 7. 9. 4. 4. 2. 2. 4. 1. 4. 6. 6. 2. 6. 8. 4. 2. 5. 3. 2. 6. 4.\n 6. 5. 8. 2. 2. 3. 7. 8. 4. 3. 6. 3. 7. 3. 5. 8. 1. 1. 4. 9. 6. 8. 5. 2.\n 8. 3. 3. 4. 3. 6. 5. 7. 4. 6. 6. 2. 3. 6. 5. 5. 1. 7. 2. 8. 4. 7. 8. 8.\n 2. 8. 4. 2. 2. 7. 3. 2. 6. 8. 7. 4. 3. 4. 6. 4. 6. 5. 1. 6. 6. 6. 3. 4.\n 9. 1. 1. 6. 8. 8. 3. 7. 4. 2. 7. 4. 7. 1. 4. 1. 7. 9. 8. 3. 6. 5. 3. 7.\n 1. 1. 7. 1. 1. 6. 2. 7. 3. 6. 1. 8. 2. 7. 4. 8. 4. 3. 2. 4. 7. 2. 5. 6.\n 8. 7. 4. 7. 6. 2. 6. 8. 3. 4. 7. 2. 7. 9. 4. 4. 7. 8. 5. 4. 2. 3. 5. 6.\n 6. 2. 3. 1. 3. 2. 4. 4. 8. 4. 8. 7. 6. 7. 4. 5. 8. 2. 1. 1. 7. 7. 4. 4.\n 4. 4. 2. 4. 1. 7. 2. 4. 6. 4. 6. 9. 6. 6. 4. 2. 6. 7. 1. 1. 4. 2. 2. 2.\n 5. 8. 7.].\nReshape your data either using array.reshape(-1, 1) if your data has a single feature or array.reshape(1, -1) if it contains a single sample."
     ]
    }
   ],
   "source": [
    "#attempt at reshaping data \n",
    "from sklearn.preprocessing import StandardScaler\n",
    "X_scaler = StandardScaler().fit(X_train)\n",
    "y_scaler = StandardScaler().fit(y_train)\n",
    "\n",
    "X_train_scaled = X_scaler.transform(X_train)\n",
    "X_test_scaled = X_scaler.transform(X_test)\n",
    "y_train_scaled = y_scaler.transform(y_train)\n",
    "y_test_scaled = y_scaler.transform(y_test)"
   ]
  },
  {
   "cell_type": "code",
   "execution_count": null,
   "metadata": {},
   "outputs": [],
   "source": []
  }
 ]
}