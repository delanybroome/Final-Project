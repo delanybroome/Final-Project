{
 "metadata": {
  "language_info": {
   "codemirror_mode": {
    "name": "ipython",
    "version": 3
   },
   "file_extension": ".py",
   "mimetype": "text/x-python",
   "name": "python",
   "nbconvert_exporter": "python",
   "pygments_lexer": "ipython3",
   "version": "3.7.6-final"
  },
  "orig_nbformat": 2,
  "kernelspec": {
   "name": "python_defaultSpec_1600826823175",
   "display_name": "Python 3.7.6 64-bit ('base': conda)"
  }
 },
 "nbformat": 4,
 "nbformat_minor": 2,
 "cells": [
  {
   "cell_type": "code",
   "execution_count": 37,
   "metadata": {},
   "outputs": [],
   "source": [
    "from numpy.random import seed\n",
    "seed(1)\n",
    "import numpy as np\n",
    "import pandas as pd\n",
    "import tensorflow\n",
    "tensorflow.keras.__version__\n",
    "import matplotlib.pyplot as plt\n",
    "from matplotlib import style\n",
    "style.use(\"ggplot\")\n",
    "from sklearn import tree"
   ]
  },
  {
   "cell_type": "code",
   "execution_count": 38,
   "metadata": {},
   "outputs": [
    {
     "output_type": "execute_result",
     "data": {
      "text/plain": "   X  Y month  day  FFMC   DMC     DC  ISI  temp  RH  wind  rain  area\n0  7  5   mar  fri  86.2  26.2   94.3  5.1   8.2  51   6.7   0.0   0.0\n1  7  4   oct  tue  90.6  35.4  669.1  6.7  18.0  33   0.9   0.0   0.0\n2  7  4   oct  sat  90.6  43.7  686.9  6.7  14.6  33   1.3   0.0   0.0\n3  8  6   mar  fri  91.7  33.3   77.5  9.0   8.3  97   4.0   0.2   0.0\n4  8  6   mar  sun  89.3  51.3  102.2  9.6  11.4  99   1.8   0.0   0.0",
      "text/html": "<div>\n<style scoped>\n    .dataframe tbody tr th:only-of-type {\n        vertical-align: middle;\n    }\n\n    .dataframe tbody tr th {\n        vertical-align: top;\n    }\n\n    .dataframe thead th {\n        text-align: right;\n    }\n</style>\n<table border=\"1\" class=\"dataframe\">\n  <thead>\n    <tr style=\"text-align: right;\">\n      <th></th>\n      <th>X</th>\n      <th>Y</th>\n      <th>month</th>\n      <th>day</th>\n      <th>FFMC</th>\n      <th>DMC</th>\n      <th>DC</th>\n      <th>ISI</th>\n      <th>temp</th>\n      <th>RH</th>\n      <th>wind</th>\n      <th>rain</th>\n      <th>area</th>\n    </tr>\n  </thead>\n  <tbody>\n    <tr>\n      <th>0</th>\n      <td>7</td>\n      <td>5</td>\n      <td>mar</td>\n      <td>fri</td>\n      <td>86.2</td>\n      <td>26.2</td>\n      <td>94.3</td>\n      <td>5.1</td>\n      <td>8.2</td>\n      <td>51</td>\n      <td>6.7</td>\n      <td>0.0</td>\n      <td>0.0</td>\n    </tr>\n    <tr>\n      <th>1</th>\n      <td>7</td>\n      <td>4</td>\n      <td>oct</td>\n      <td>tue</td>\n      <td>90.6</td>\n      <td>35.4</td>\n      <td>669.1</td>\n      <td>6.7</td>\n      <td>18.0</td>\n      <td>33</td>\n      <td>0.9</td>\n      <td>0.0</td>\n      <td>0.0</td>\n    </tr>\n    <tr>\n      <th>2</th>\n      <td>7</td>\n      <td>4</td>\n      <td>oct</td>\n      <td>sat</td>\n      <td>90.6</td>\n      <td>43.7</td>\n      <td>686.9</td>\n      <td>6.7</td>\n      <td>14.6</td>\n      <td>33</td>\n      <td>1.3</td>\n      <td>0.0</td>\n      <td>0.0</td>\n    </tr>\n    <tr>\n      <th>3</th>\n      <td>8</td>\n      <td>6</td>\n      <td>mar</td>\n      <td>fri</td>\n      <td>91.7</td>\n      <td>33.3</td>\n      <td>77.5</td>\n      <td>9.0</td>\n      <td>8.3</td>\n      <td>97</td>\n      <td>4.0</td>\n      <td>0.2</td>\n      <td>0.0</td>\n    </tr>\n    <tr>\n      <th>4</th>\n      <td>8</td>\n      <td>6</td>\n      <td>mar</td>\n      <td>sun</td>\n      <td>89.3</td>\n      <td>51.3</td>\n      <td>102.2</td>\n      <td>9.6</td>\n      <td>11.4</td>\n      <td>99</td>\n      <td>1.8</td>\n      <td>0.0</td>\n      <td>0.0</td>\n    </tr>\n  </tbody>\n</table>\n</div>"
     },
     "metadata": {},
     "execution_count": 38
    }
   ],
   "source": [
    "# read data\n",
    "fires_df = pd.read_csv(\"data/forestfires.csv\")\n",
    "fires_df.head()"
   ]
  },
  {
   "cell_type": "code",
   "execution_count": 39,
   "metadata": {
    "tags": []
   },
   "outputs": [
    {
     "output_type": "stream",
     "name": "stdout",
     "text": "(517, 11) (517, 1)\n"
    }
   ],
   "source": [
    "X = fires_df.drop(columns=[\"month\", \"day\"])\n",
    "y = fires_df[\"month\"].values.reshape(-1,1)\n",
    "print(X.shape, y.shape)"
   ]
  },
  {
   "cell_type": "code",
   "execution_count": 40,
   "metadata": {},
   "outputs": [],
   "source": [
    "from sklearn.model_selection import train_test_split\n",
    "from sklearn.preprocessing import LabelEncoder, MinMaxScaler\n",
    "from tensorflow.keras.utils import to_categorical"
   ]
  },
  {
   "cell_type": "code",
   "execution_count": 41,
   "metadata": {},
   "outputs": [],
   "source": [
    "X_train, X_test, y_train, y_test = train_test_split(\n",
    "    X, y, random_state=1)"
   ]
  },
  {
   "cell_type": "code",
   "execution_count": 42,
   "metadata": {},
   "outputs": [],
   "source": [
    "X_scaler = MinMaxScaler().fit(X_train)\n",
    "X_train_scaled = X_scaler.transform(X_train)\n",
    "X_test_scaled = X_scaler.transform(X_test)"
   ]
  },
  {
   "cell_type": "code",
   "execution_count": 43,
   "metadata": {},
   "outputs": [],
   "source": [
    "#LABEL ENCODER AATEMPT \n",
    "label_encoder = LabelEncoder()\n",
    "label_encoder.fit(y_train)\n",
    "encoded_y_train = label_encoder.transform(y_train)\n",
    "encoded_y_test = label_encoder.transform(y_test)"
   ]
  },
  {
   "cell_type": "code",
   "execution_count": 44,
   "metadata": {},
   "outputs": [
    {
     "output_type": "execute_result",
     "data": {
      "text/plain": "[6,\n 1,\n 11,\n 1,\n 11,\n 11,\n 1,\n 11,\n 1,\n 11,\n 7,\n 0,\n 7,\n 1,\n 11,\n 11,\n 7,\n 11,\n 1,\n 7,\n 1,\n 1,\n 11,\n 11,\n 7,\n 1,\n 11,\n 7,\n 1,\n 7,\n 1,\n 2,\n 1,\n 11,\n 1,\n 11,\n 7,\n 11,\n 1,\n 5,\n 11,\n 1,\n 11,\n 1,\n 5,\n 1,\n 11,\n 7,\n 1,\n 1,\n 11,\n 1,\n 1,\n 7,\n 1,\n 7,\n 1,\n 7,\n 11,\n 10,\n 1,\n 4,\n 3,\n 1,\n 1,\n 6,\n 11,\n 11,\n 9,\n 11,\n 1,\n 5,\n 7,\n 1,\n 1,\n 11,\n 1,\n 5,\n 3,\n 11,\n 11,\n 11,\n 11,\n 11,\n 11,\n 7,\n 11,\n 1,\n 11,\n 1,\n 11,\n 3,\n 1,\n 11,\n 5,\n 7,\n 1,\n 11,\n 11,\n 11,\n 0,\n 7,\n 2,\n 7,\n 11,\n 7,\n 3,\n 1,\n 1,\n 11,\n 11,\n 11,\n 11,\n 7,\n 11,\n 1,\n 5,\n 10,\n 6,\n 8,\n 6,\n 11,\n 1,\n 1,\n 1,\n 1,\n 7,\n 1,\n 1,\n 5,\n 5,\n 1,\n 11,\n 1,\n 11,\n 5,\n 1,\n 1,\n 1,\n 1,\n 1,\n 11,\n 11,\n 1,\n 7,\n 1,\n 1,\n 1,\n 1,\n 11,\n 1,\n 2,\n 1,\n 1,\n 11,\n 1,\n 11,\n 11,\n 1,\n 11,\n 1,\n 1,\n 1,\n 1,\n 11,\n 11,\n 1,\n 1,\n 1,\n 7,\n 11,\n 5,\n 1,\n 11,\n 1,\n 11,\n 1,\n 7,\n 1,\n 11,\n 11,\n 11,\n 1,\n 1,\n 11,\n 11,\n 1,\n 11,\n 6,\n 1,\n 7,\n 11,\n 6,\n 11,\n 1,\n 11,\n 11,\n 11,\n 1,\n 1,\n 11,\n 7,\n 6,\n 7,\n 11,\n 1,\n 1,\n 11,\n 11,\n 11,\n 11,\n 5,\n 3,\n 1,\n 5,\n 11,\n 10,\n 7,\n 7,\n 2,\n 7,\n 0,\n 11,\n 11,\n 1,\n 0,\n 11,\n 1,\n 11,\n 11,\n 1,\n 3,\n 11,\n 11,\n 11,\n 1,\n 3,\n 11,\n 11,\n 1,\n 7,\n 1,\n 11,\n 11,\n 1,\n 3,\n 5,\n 1,\n 11,\n 5,\n 11,\n 1,\n 3,\n 10,\n 0,\n 10,\n 6,\n 1,\n 11,\n 10,\n 7,\n 11,\n 7,\n 11,\n 3,\n 11,\n 7,\n 1,\n 10,\n 11,\n 5,\n 10,\n 1,\n 1,\n 1,\n 5,\n 1,\n 11,\n 11,\n 11,\n 10,\n 5,\n 6,\n 6,\n 7,\n 11,\n 11,\n 1,\n 1,\n 11,\n 0,\n 5,\n 1,\n 1,\n 1,\n 5,\n 11,\n 1,\n 1,\n 1,\n 1,\n 1,\n 11,\n 1,\n 2,\n 7,\n 1,\n 1,\n 5,\n 4,\n 11,\n 3,\n 11,\n 10,\n 11,\n 1,\n 0,\n 1,\n 11,\n 6,\n 5,\n 11,\n 11,\n 11,\n 11,\n 3,\n 11,\n 2,\n 1,\n 7,\n 1,\n 7,\n 1,\n 1,\n 7,\n 1,\n 11,\n 1,\n 1,\n 1,\n 7,\n 1,\n 11,\n 1,\n 11,\n 11,\n 1,\n 10,\n 11,\n 6,\n 11,\n 11,\n 1,\n 7,\n 1,\n 11,\n 11,\n 5,\n 0,\n 1,\n 8,\n 7,\n 11,\n 11,\n 1,\n 1,\n 11,\n 1,\n 1,\n 3,\n 7,\n 1,\n 11,\n 1,\n 2,\n 11,\n 2,\n 3,\n 1,\n 11,\n 11,\n 1,\n 10,\n 1,\n 7,\n 1,\n 10]"
     },
     "metadata": {},
     "execution_count": 44
    }
   ],
   "source": [
    "list(encoded_y_train)"
   ]
  },
  {
   "cell_type": "code",
   "execution_count": 45,
   "metadata": {},
   "outputs": [],
   "source": [
    "# Convert encoded labels to one-hot-encoding\n",
    "y_train_categorical = to_categorical(encoded_y_train)\n",
    "y_test_categorical = to_categorical(encoded_y_test)"
   ]
  },
  {
   "cell_type": "code",
   "execution_count": 46,
   "metadata": {},
   "outputs": [
    {
     "output_type": "execute_result",
     "data": {
      "text/plain": "array(['apr'], dtype=object)"
     },
     "metadata": {},
     "execution_count": 46
    }
   ],
   "source": [
    "label_encoder.inverse_transform([0])"
   ]
  },
  {
   "cell_type": "code",
   "execution_count": 47,
   "metadata": {},
   "outputs": [
    {
     "output_type": "execute_result",
     "data": {
      "text/plain": "array([0., 0., 0., 0., 0., 0., 0., 1., 0., 0., 0., 0.], dtype=float32),\n array([0., 0., 0., 0., 0., 0., 0., 0., 0., 0., 0., 1.], dtype=float32),\n array([0., 1., 0., 0., 0., 0., 0., 0., 0., 0., 0., 0.], dtype=float32),\n array([0., 0., 0., 0., 0., 1., 0., 0., 0., 0., 0., 0.], dtype=float32),\n array([0., 0., 0., 0., 0., 0., 0., 0., 0., 0., 1., 0.], dtype=float32),\n array([0., 0., 0., 0., 0., 0., 1., 0., 0., 0., 0., 0.], dtype=float32),\n array([0., 0., 0., 0., 0., 0., 0., 0., 1., 0., 0., 0.], dtype=float32),\n array([0., 0., 0., 0., 0., 0., 1., 0., 0., 0., 0., 0.], dtype=float32),\n array([0., 0., 0., 0., 0., 0., 0., 0., 0., 0., 0., 1.], dtype=float32),\n array([0., 1., 0., 0., 0., 0., 0., 0., 0., 0., 0., 0.], dtype=float32),\n array([0., 1., 0., 0., 0., 0., 0., 0., 0., 0., 0., 0.], dtype=float32),\n array([0., 1., 0., 0., 0., 0., 0., 0., 0., 0., 0., 0.], dtype=float32),\n array([0., 1., 0., 0., 0., 0., 0., 0., 0., 0., 0., 0.], dtype=float32),\n array([0., 0., 0., 0., 0., 0., 0., 1., 0., 0., 0., 0.], dtype=float32),\n array([0., 1., 0., 0., 0., 0., 0., 0., 0., 0., 0., 0.], dtype=float32),\n array([0., 1., 0., 0., 0., 0., 0., 0., 0., 0., 0., 0.], dtype=float32),\n array([0., 0., 0., 0., 0., 1., 0., 0., 0., 0., 0., 0.], dtype=float32),\n array([0., 0., 0., 0., 0., 1., 0., 0., 0., 0., 0., 0.], dtype=float32),\n array([0., 1., 0., 0., 0., 0., 0., 0., 0., 0., 0., 0.], dtype=float32),\n array([0., 0., 0., 0., 0., 0., 0., 0., 0., 0., 0., 1.], dtype=float32),\n array([0., 1., 0., 0., 0., 0., 0., 0., 0., 0., 0., 0.], dtype=float32),\n array([0., 0., 0., 0., 0., 0., 0., 0., 0., 0., 0., 1.], dtype=float32),\n array([0., 0., 0., 0., 0., 1., 0., 0., 0., 0., 0., 0.], dtype=float32),\n array([0., 1., 0., 0., 0., 0., 0., 0., 0., 0., 0., 0.], dtype=float32),\n array([0., 1., 0., 0., 0., 0., 0., 0., 0., 0., 0., 0.], dtype=float32),\n array([0., 1., 0., 0., 0., 0., 0., 0., 0., 0., 0., 0.], dtype=float32),\n array([0., 1., 0., 0., 0., 0., 0., 0., 0., 0., 0., 0.], dtype=float32),\n array([0., 1., 0., 0., 0., 0., 0., 0., 0., 0., 0., 0.], dtype=float32),\n array([0., 0., 0., 0., 0., 0., 0., 0., 0., 0., 0., 1.], dtype=float32),\n array([0., 0., 0., 0., 0., 0., 0., 0., 0., 0., 0., 1.], dtype=float32),\n array([0., 1., 0., 0., 0., 0., 0., 0., 0., 0., 0., 0.], dtype=float32),\n array([0., 0., 0., 0., 0., 0., 0., 1., 0., 0., 0., 0.], dtype=float32),\n array([0., 1., 0., 0., 0., 0., 0., 0., 0., 0., 0., 0.], dtype=float32),\n array([0., 1., 0., 0., 0., 0., 0., 0., 0., 0., 0., 0.], dtype=float32),\n array([0., 1., 0., 0., 0., 0., 0., 0., 0., 0., 0., 0.], dtype=float32),\n array([0., 1., 0., 0., 0., 0., 0., 0., 0., 0., 0., 0.], dtype=float32),\n array([0., 0., 0., 0., 0., 0., 0., 0., 0., 0., 0., 1.], dtype=float32),\n array([0., 1., 0., 0., 0., 0., 0., 0., 0., 0., 0., 0.], dtype=float32),\n array([0., 0., 1., 0., 0., 0., 0., 0., 0., 0., 0., 0.], dtype=float32),\n array([0., 1., 0., 0., 0., 0., 0., 0., 0., 0., 0., 0.], dtype=float32),\n array([0., 1., 0., 0., 0., 0., 0., 0., 0., 0., 0., 0.], dtype=float32),\n array([0., 0., 0., 0., 0., 0., 0., 0., 0., 0., 0., 1.], dtype=float32),\n array([0., 1., 0., 0., 0., 0., 0., 0., 0., 0., 0., 0.], dtype=float32),\n array([0., 0., 0., 0., 0., 0., 0., 0., 0., 0., 0., 1.], dtype=float32),\n array([0., 0., 0., 0., 0., 0., 0., 0., 0., 0., 0., 1.], dtype=float32),\n array([0., 1., 0., 0., 0., 0., 0., 0., 0., 0., 0., 0.], dtype=float32),\n array([0., 0., 0., 0., 0., 0., 0., 0., 0., 0., 0., 1.], dtype=float32),\n array([0., 1., 0., 0., 0., 0., 0., 0., 0., 0., 0., 0.], dtype=float32),\n array([0., 1., 0., 0., 0., 0., 0., 0., 0., 0., 0., 0.], dtype=float32),\n array([0., 1., 0., 0., 0., 0., 0., 0., 0., 0., 0., 0.], dtype=float32),\n array([0., 1., 0., 0., 0., 0., 0., 0., 0., 0., 0., 0.], dtype=float32),\n array([0., 0., 0., 0., 0., 0., 0., 0., 0., 0., 0., 1.], dtype=float32),\n array([0., 0., 0., 0., 0., 0., 0., 0., 0., 0., 0., 1.], dtype=float32),\n array([0., 1., 0., 0., 0., 0., 0., 0., 0., 0., 0., 0.], dtype=float32),\n array([0., 1., 0., 0., 0., 0., 0., 0., 0., 0., 0., 0.], dtype=float32),\n array([0., 1., 0., 0., 0., 0., 0., 0., 0., 0., 0., 0.], dtype=float32),\n array([0., 0., 0., 0., 0., 0., 0., 1., 0., 0., 0., 0.], dtype=float32),\n array([0., 0., 0., 0., 0., 0., 0., 0., 0., 0., 0., 1.], dtype=float32),\n array([0., 0., 0., 0., 0., 1., 0., 0., 0., 0., 0., 0.], dtype=float32),\n array([0., 1., 0., 0., 0., 0., 0., 0., 0., 0., 0., 0.], dtype=float32),\n array([0., 0., 0., 0., 0., 0., 0., 0., 0., 0., 0., 1.], dtype=float32),\n array([0., 1., 0., 0., 0., 0., 0., 0., 0., 0., 0., 0.], dtype=float32),\n array([0., 0., 0., 0., 0., 0., 0., 0., 0., 0., 0., 1.], dtype=float32),\n array([0., 1., 0., 0., 0., 0., 0., 0., 0., 0., 0., 0.], dtype=float32),\n array([0., 0., 0., 0., 0., 0., 0., 1., 0., 0., 0., 0.], dtype=float32),\n array([0., 1., 0., 0., 0., 0., 0., 0., 0., 0., 0., 0.], dtype=float32),\n array([0., 0., 0., 0., 0., 0., 0., 0., 0., 0., 0., 1.], dtype=float32),\n array([0., 0., 0., 0., 0., 0., 0., 0., 0., 0., 0., 1.], dtype=float32),\n array([0., 0., 0., 0., 0., 0., 0., 0., 0., 0., 0., 1.], dtype=float32),\n array([0., 1., 0., 0., 0., 0., 0., 0., 0., 0., 0., 0.], dtype=float32),\n array([0., 1., 0., 0., 0., 0., 0., 0., 0., 0., 0., 0.], dtype=float32),\n array([0., 0., 0., 0., 0., 0., 0., 0., 0., 0., 0., 1.], dtype=float32),\n array([0., 0., 0., 0., 0., 0., 0., 0., 0., 0., 0., 1.], dtype=float32),\n array([0., 1., 0., 0., 0., 0., 0., 0., 0., 0., 0., 0.], dtype=float32),\n array([0., 0., 0., 0., 0., 0., 0., 0., 0., 0., 0., 1.], dtype=float32),\n array([0., 0., 0., 0., 0., 0., 1., 0., 0., 0., 0., 0.], dtype=float32),\n array([0., 1., 0., 0., 0., 0., 0., 0., 0., 0., 0., 0.], dtype=float32),\n array([0., 0., 0., 0., 0., 0., 0., 1., 0., 0., 0., 0.], dtype=float32),\n array([0., 0., 0., 0., 0., 0., 0., 0., 0., 0., 0., 1.], dtype=float32),\n array([0., 0., 0., 0., 0., 0., 1., 0., 0., 0., 0., 0.], dtype=float32),\n array([0., 0., 0., 0., 0., 0., 0., 0., 0., 0., 0., 1.], dtype=float32),\n array([0., 1., 0., 0., 0., 0., 0., 0., 0., 0., 0., 0.], dtype=float32),\n array([0., 0., 0., 0., 0., 0., 0., 0., 0., 0., 0., 1.], dtype=float32),\n array([0., 0., 0., 0., 0., 0., 0., 0., 0., 0., 0., 1.], dtype=float32),\n array([0., 0., 0., 0., 0., 0., 0., 0., 0., 0., 0., 1.], dtype=float32),\n array([0., 1., 0., 0., 0., 0., 0., 0., 0., 0., 0., 0.], dtype=float32),\n array([0., 1., 0., 0., 0., 0., 0., 0., 0., 0., 0., 0.], dtype=float32),\n array([0., 0., 0., 0., 0., 0., 0., 0., 0., 0., 0., 1.], dtype=float32),\n array([0., 0., 0., 0., 0., 0., 0., 1., 0., 0., 0., 0.], dtype=float32),\n array([0., 0., 0., 0., 0., 0., 1., 0., 0., 0., 0., 0.], dtype=float32),\n array([0., 0., 0., 0., 0., 0., 0., 1., 0., 0., 0., 0.], dtype=float32),\n array([0., 0., 0., 0., 0., 0., 0., 0., 0., 0., 0., 1.], dtype=float32),\n array([0., 1., 0., 0., 0., 0., 0., 0., 0., 0., 0., 0.], dtype=float32),\n array([0., 1., 0., 0., 0., 0., 0., 0., 0., 0., 0., 0.], dtype=float32),\n array([0., 0., 0., 0., 0., 0., 0., 0., 0., 0., 0., 1.], dtype=float32),\n array([0., 0., 0., 0., 0., 0., 0., 0., 0., 0., 0., 1.], dtype=float32),\n array([0., 0., 0., 0., 0., 0., 0., 0., 0., 0., 0., 1.], dtype=float32),\n array([0., 0., 0., 0., 0., 0., 0., 0., 0., 0., 0., 1.], dtype=float32),\n array([0., 0., 0., 0., 0., 1., 0., 0., 0., 0., 0., 0.], dtype=float32),\n array([0., 0., 0., 1., 0., 0., 0., 0., 0., 0., 0., 0.], dtype=float32),\n array([0., 1., 0., 0., 0., 0., 0., 0., 0., 0., 0., 0.], dtype=float32),\n array([0., 0., 0., 0., 0., 1., 0., 0., 0., 0., 0., 0.], dtype=float32),\n array([0., 0., 0., 0., 0., 0., 0., 0., 0., 0., 0., 1.], dtype=float32),\n array([0., 0., 0., 0., 0., 0., 0., 0., 0., 0., 1., 0.], dtype=float32),\n array([0., 0., 0., 0., 0., 0., 0., 1., 0., 0., 0., 0.], dtype=float32),\n array([0., 0., 0., 0., 0., 0., 0., 1., 0., 0., 0., 0.], dtype=float32),\n array([0., 0., 1., 0., 0., 0., 0., 0., 0., 0., 0., 0.], dtype=float32),\n array([0., 0., 0., 0., 0., 0., 0., 1., 0., 0., 0., 0.], dtype=float32),\n array([1., 0., 0., 0., 0., 0., 0., 0., 0., 0., 0., 0.], dtype=float32),\n array([0., 0., 0., 0., 0., 0., 0., 0., 0., 0., 0., 1.], dtype=float32),\n array([0., 0., 0., 0., 0., 0., 0., 0., 0., 0., 0., 1.], dtype=float32),\n array([0., 1., 0., 0., 0., 0., 0., 0., 0., 0., 0., 0.], dtype=float32),\n array([1., 0., 0., 0., 0., 0., 0., 0., 0., 0., 0., 0.], dtype=float32),\n array([0., 0., 0., 0., 0., 0., 0., 0., 0., 0., 0., 1.], dtype=float32),\n array([0., 1., 0., 0., 0., 0., 0., 0., 0., 0., 0., 0.], dtype=float32),\n array([0., 0., 0., 0., 0., 0., 0., 0., 0., 0., 0., 1.], dtype=float32),\n array([0., 0., 0., 0., 0., 0., 0., 0., 0., 0., 0., 1.], dtype=float32),\n array([0., 1., 0., 0., 0., 0., 0., 0., 0., 0., 0., 0.], dtype=float32),\n array([0., 0., 0., 1., 0., 0., 0., 0., 0., 0., 0., 0.], dtype=float32),\n array([0., 0., 0., 0., 0., 0., 0., 0., 0., 0., 0., 1.], dtype=float32),\n array([0., 0., 0., 0., 0., 0., 0., 0., 0., 0., 0., 1.], dtype=float32),\n array([0., 0., 0., 0., 0., 0., 0., 0., 0., 0., 0., 1.], dtype=float32),\n array([0., 1., 0., 0., 0., 0., 0., 0., 0., 0., 0., 0.], dtype=float32),\n array([0., 0., 0., 1., 0., 0., 0., 0., 0., 0., 0., 0.], dtype=float32),\n array([0., 0., 0., 0., 0., 0., 0., 0., 0., 0., 0., 1.], dtype=float32),\n array([0., 0., 0., 0., 0., 0., 0., 0., 0., 0., 0., 1.], dtype=float32),\n array([0., 1., 0., 0., 0., 0., 0., 0., 0., 0., 0., 0.], dtype=float32),\n array([0., 0., 0., 0., 0., 0., 0., 1., 0., 0., 0., 0.], dtype=float32),\n array([0., 1., 0., 0., 0., 0., 0., 0., 0., 0., 0., 0.], dtype=float32),\n array([0., 0., 0., 0., 0., 0., 0., 0., 0., 0., 0., 1.], dtype=float32),\n array([0., 0., 0., 0., 0., 0., 0., 0., 0., 0., 0., 1.], dtype=float32),\n array([0., 1., 0., 0., 0., 0., 0., 0., 0., 0., 0., 0.], dtype=float32),\n array([0., 0., 0., 1., 0., 0., 0., 0., 0., 0., 0., 0.], dtype=float32),\n array([0., 0., 0., 0., 0., 1., 0., 0., 0., 0., 0., 0.], dtype=float32),\n array([0., 1., 0., 0., 0., 0., 0., 0., 0., 0., 0., 0.], dtype=float32),\n array([0., 0., 0., 0., 0., 0., 0., 0., 0., 0., 0., 1.], dtype=float32),\n array([0., 0., 0., 0., 0., 1., 0., 0., 0., 0., 0., 0.], dtype=float32),\n array([0., 0., 0., 0., 0., 0., 0., 0., 0., 0., 0., 1.], dtype=float32),\n array([0., 1., 0., 0., 0., 0., 0., 0., 0., 0., 0., 0.], dtype=float32),\n array([0., 0., 0., 1., 0., 0., 0., 0., 0., 0., 0., 0.], dtype=float32),\n array([0., 0., 0., 0., 0., 0., 0., 0., 0., 0., 1., 0.], dtype=float32),\n array([1., 0., 0., 0., 0., 0., 0., 0., 0., 0., 0., 0.], dtype=float32),\n array([0., 0., 0., 0., 0., 0., 0., 0., 0., 0., 1., 0.], dtype=float32),\n array([0., 0., 0., 0., 0., 0., 1., 0., 0., 0., 0., 0.], dtype=float32),\n array([0., 1., 0., 0., 0., 0., 0., 0., 0., 0., 0., 0.], dtype=float32),\n array([0., 0., 0., 0., 0., 0., 0., 0., 0., 0., 0., 1.], dtype=float32),\n array([0., 0., 0., 0., 0., 0., 0., 0., 0., 0., 1., 0.], dtype=float32),\n array([0., 0., 0., 0., 0., 0., 0., 1., 0., 0., 0., 0.], dtype=float32),\n array([0., 0., 0., 0., 0., 0., 0., 0., 0., 0., 0., 1.], dtype=float32),\n array([0., 0., 0., 0., 0., 0., 0., 1., 0., 0., 0., 0.], dtype=float32),\n array([0., 0., 0., 0., 0., 0., 0., 0., 0., 0., 0., 1.], dtype=float32),\n array([0., 0., 0., 1., 0., 0., 0., 0., 0., 0., 0., 0.], dtype=float32),\n array([0., 0., 0., 0., 0., 0., 0., 0., 0., 0., 0., 1.], dtype=float32),\n array([0., 0., 0., 0., 0., 0., 0., 1., 0., 0., 0., 0.], dtype=float32),\n array([0., 1., 0., 0., 0., 0., 0., 0., 0., 0., 0., 0.], dtype=float32),\n array([0., 0., 0., 0., 0., 0., 0., 0., 0., 0., 1., 0.], dtype=float32),\n array([0., 0., 0., 0., 0., 0., 0., 0., 0., 0., 0., 1.], dtype=float32),\n array([0., 0., 0., 0., 0., 1., 0., 0., 0., 0., 0., 0.], dtype=float32),\n array([0., 0., 0., 0., 0., 0., 0., 0., 0., 0., 1., 0.], dtype=float32),\n array([0., 1., 0., 0., 0., 0., 0., 0., 0., 0., 0., 0.], dtype=float32),\n array([0., 1., 0., 0., 0., 0., 0., 0., 0., 0., 0., 0.], dtype=float32),\n array([0., 1., 0., 0., 0., 0., 0., 0., 0., 0., 0., 0.], dtype=float32),\n array([0., 0., 0., 0., 0., 1., 0., 0., 0., 0., 0., 0.], dtype=float32),\n array([0., 1., 0., 0., 0., 0., 0., 0., 0., 0., 0., 0.], dtype=float32),\n array([0., 0., 0., 0., 0., 0., 0., 0., 0., 0., 0., 1.], dtype=float32),\n array([0., 0., 0., 0., 0., 0., 0., 0., 0., 0., 0., 1.], dtype=float32),\n array([0., 0., 0., 0., 0., 0., 0., 0., 0., 0., 0., 1.], dtype=float32),\n array([0., 0., 0., 0., 0., 0., 0., 0., 0., 0., 1., 0.], dtype=float32),\n array([0., 0., 0., 0., 0., 1., 0., 0., 0., 0., 0., 0.], dtype=float32),\n array([0., 0., 0., 0., 0., 0., 1., 0., 0., 0., 0., 0.], dtype=float32),\n array([0., 0., 0., 0., 0., 0., 1., 0., 0., 0., 0., 0.], dtype=float32),\n array([0., 0., 0., 0., 0., 0., 0., 1., 0., 0., 0., 0.], dtype=float32),\n array([0., 0., 0., 0., 0., 0., 0., 0., 0., 0., 0., 1.], dtype=float32),\n array([0., 0., 0., 0., 0., 0., 0., 0., 0., 0., 0., 1.], dtype=float32),\n array([0., 1., 0., 0., 0., 0., 0., 0., 0., 0., 0., 0.], dtype=float32),\n array([0., 1., 0., 0., 0., 0., 0., 0., 0., 0., 0., 0.], dtype=float32),\n array([0., 0., 0., 0., 0., 0., 0., 0., 0., 0., 0., 1.], dtype=float32),\n array([1., 0., 0., 0., 0., 0., 0., 0., 0., 0., 0., 0.], dtype=float32),\n array([0., 0., 0., 0., 0., 1., 0., 0., 0., 0., 0., 0.], dtype=float32),\n array([0., 1., 0., 0., 0., 0., 0., 0., 0., 0., 0., 0.], dtype=float32),\n array([0., 1., 0., 0., 0., 0., 0., 0., 0., 0., 0., 0.], dtype=float32),\n array([0., 1., 0., 0., 0., 0., 0., 0., 0., 0., 0., 0.], dtype=float32),\n array([0., 0., 0., 0., 0., 1., 0., 0., 0., 0., 0., 0.], dtype=float32),\n array([0., 0., 0., 0., 0., 0., 0., 0., 0., 0., 0., 1.], dtype=float32),\n array([0., 1., 0., 0., 0., 0., 0., 0., 0., 0., 0., 0.], dtype=float32),\n array([0., 1., 0., 0., 0., 0., 0., 0., 0., 0., 0., 0.], dtype=float32),\n array([0., 1., 0., 0., 0., 0., 0., 0., 0., 0., 0., 0.], dtype=float32),\n array([0., 1., 0., 0., 0., 0., 0., 0., 0., 0., 0., 0.], dtype=float32),\n array([0., 1., 0., 0., 0., 0., 0., 0., 0., 0., 0., 0.], dtype=float32),\n array([0., 0., 0., 0., 0., 0., 0., 0., 0., 0., 0., 1.], dtype=float32),\n array([0., 1., 0., 0., 0., 0., 0., 0., 0., 0., 0., 0.], dtype=float32),\n array([0., 0., 1., 0., 0., 0., 0., 0., 0., 0., 0., 0.], dtype=float32),\n array([0., 0., 0., 0., 0., 0., 0., 1., 0., 0., 0., 0.], dtype=float32),\n array([0., 1., 0., 0., 0., 0., 0., 0., 0., 0., 0., 0.], dtype=float32),\n array([0., 1., 0., 0., 0., 0., 0., 0., 0., 0., 0., 0.], dtype=float32),\n array([0., 0., 0., 0., 0., 1., 0., 0., 0., 0., 0., 0.], dtype=float32),\n array([0., 0., 0., 0., 1., 0., 0., 0., 0., 0., 0., 0.], dtype=float32),\n array([0., 0., 0., 0., 0., 0., 0., 0., 0., 0., 0., 1.], dtype=float32),\n array([0., 0., 0., 1., 0., 0., 0., 0., 0., 0., 0., 0.], dtype=float32),\n array([0., 0., 0., 0., 0., 0., 0., 0., 0., 0., 0., 1.], dtype=float32),\n array([0., 0., 0., 0., 0., 0., 0., 0., 0., 0., 1., 0.], dtype=float32),\n array([0., 0., 0., 0., 0., 0., 0., 0., 0., 0., 0., 1.], dtype=float32),\n array([0., 1., 0., 0., 0., 0., 0., 0., 0., 0., 0., 0.], dtype=float32),\n array([1., 0., 0., 0., 0., 0., 0., 0., 0., 0., 0., 0.], dtype=float32),\n array([0., 1., 0., 0., 0., 0., 0., 0., 0., 0., 0., 0.], dtype=float32),\n array([0., 0., 0., 0., 0., 0., 0., 0., 0., 0., 0., 1.], dtype=float32),\n array([0., 0., 0., 0., 0., 0., 1., 0., 0., 0., 0., 0.], dtype=float32),\n array([0., 0., 0., 0., 0., 1., 0., 0., 0., 0., 0., 0.], dtype=float32),\n array([0., 0., 0., 0., 0., 0., 0., 0., 0., 0., 0., 1.], dtype=float32),\n array([0., 0., 0., 0., 0., 0., 0., 0., 0., 0., 0., 1.], dtype=float32),\n array([0., 0., 0., 0., 0., 0., 0., 0., 0., 0., 0., 1.], dtype=float32),\n array([0., 0., 0., 0., 0., 0., 0., 0., 0., 0., 0., 1.], dtype=float32),\n array([0., 0., 0., 1., 0., 0., 0., 0., 0., 0., 0., 0.], dtype=float32),\n array([0., 0., 0., 0., 0., 0., 0., 0., 0., 0., 0., 1.], dtype=float32),\n array([0., 0., 1., 0., 0., 0., 0., 0., 0., 0., 0., 0.], dtype=float32),\n array([0., 1., 0., 0., 0., 0., 0., 0., 0., 0., 0., 0.], dtype=float32),\n array([0., 0., 0., 0., 0., 0., 0., 1., 0., 0., 0., 0.], dtype=float32),\n array([0., 1., 0., 0., 0., 0., 0., 0., 0., 0., 0., 0.], dtype=float32),\n array([0., 0., 0., 0., 0., 0., 0., 1., 0., 0., 0., 0.], dtype=float32),\n array([0., 1., 0., 0., 0., 0., 0., 0., 0., 0., 0., 0.], dtype=float32),\n array([0., 1., 0., 0., 0., 0., 0., 0., 0., 0., 0., 0.], dtype=float32),\n array([0., 0., 0., 0., 0., 0., 0., 1., 0., 0., 0., 0.], dtype=float32),\n array([0., 1., 0., 0., 0., 0., 0., 0., 0., 0., 0., 0.], dtype=float32),\n array([0., 0., 0., 0., 0., 0., 0., 0., 0., 0., 0., 1.], dtype=float32),\n array([0., 1., 0., 0., 0., 0., 0., 0., 0., 0., 0., 0.], dtype=float32),\n array([0., 1., 0., 0., 0., 0., 0., 0., 0., 0., 0., 0.], dtype=float32),\n array([0., 1., 0., 0., 0., 0., 0., 0., 0., 0., 0., 0.], dtype=float32),\n array([0., 0., 0., 0., 0., 0., 0., 1., 0., 0., 0., 0.], dtype=float32),\n array([0., 1., 0., 0., 0., 0., 0., 0., 0., 0., 0., 0.], dtype=float32),\n array([0., 0., 0., 0., 0., 0., 0., 0., 0., 0., 0., 1.], dtype=float32),\n array([0., 1., 0., 0., 0., 0., 0., 0., 0., 0., 0., 0.], dtype=float32),\n array([0., 0., 0., 0., 0., 0., 0., 0., 0., 0., 0., 1.], dtype=float32),\n array([0., 0., 0., 0., 0., 0., 0., 0., 0., 0., 0., 1.], dtype=float32),\n array([0., 1., 0., 0., 0., 0., 0., 0., 0., 0., 0., 0.], dtype=float32),\n array([0., 0., 0., 0., 0., 0., 0., 0., 0., 0., 1., 0.], dtype=float32),\n array([0., 0., 0., 0., 0., 0., 0., 0., 0., 0., 0., 1.], dtype=float32),\n array([0., 0., 0., 0., 0., 0., 1., 0., 0., 0., 0., 0.], dtype=float32),\n array([0., 0., 0., 0., 0., 0., 0., 0., 0., 0., 0., 1.], dtype=float32),\n array([0., 0., 0., 0., 0., 0., 0., 0., 0., 0., 0., 1.], dtype=float32),\n array([0., 1., 0., 0., 0., 0., 0., 0., 0., 0., 0., 0.], dtype=float32),\n array([0., 0., 0., 0., 0., 0., 0., 1., 0., 0., 0., 0.], dtype=float32),\n array([0., 1., 0., 0., 0., 0., 0., 0., 0., 0., 0., 0.], dtype=float32),\n array([0., 0., 0., 0., 0., 0., 0., 0., 0., 0., 0., 1.], dtype=float32),\n array([0., 0., 0., 0., 0., 0., 0., 0., 0., 0., 0., 1.], dtype=float32),\n array([0., 0., 0., 0., 0., 1., 0., 0., 0., 0., 0., 0.], dtype=float32),\n array([1., 0., 0., 0., 0., 0., 0., 0., 0., 0., 0., 0.], dtype=float32),\n array([0., 1., 0., 0., 0., 0., 0., 0., 0., 0., 0., 0.], dtype=float32),\n array([0., 0., 0., 0., 0., 0., 0., 0., 1., 0., 0., 0.], dtype=float32),\n array([0., 0., 0., 0., 0., 0., 0., 1., 0., 0., 0., 0.], dtype=float32),\n array([0., 0., 0., 0., 0., 0., 0., 0., 0., 0., 0., 1.], dtype=float32),\n array([0., 0., 0., 0., 0., 0., 0., 0., 0., 0., 0., 1.], dtype=float32),\n array([0., 1., 0., 0., 0., 0., 0., 0., 0., 0., 0., 0.], dtype=float32),\n array([0., 1., 0., 0., 0., 0., 0., 0., 0., 0., 0., 0.], dtype=float32),\n array([0., 0., 0., 0., 0., 0., 0., 0., 0., 0., 0., 1.], dtype=float32),\n array([0., 1., 0., 0., 0., 0., 0., 0., 0., 0., 0., 0.], dtype=float32),\n array([0., 1., 0., 0., 0., 0., 0., 0., 0., 0., 0., 0.], dtype=float32),\n array([0., 0., 0., 1., 0., 0., 0., 0., 0., 0., 0., 0.], dtype=float32),\n array([0., 0., 0., 0., 0., 0., 0., 1., 0., 0., 0., 0.], dtype=float32),\n array([0., 1., 0., 0., 0., 0., 0., 0., 0., 0., 0., 0.], dtype=float32),\n array([0., 0., 0., 0., 0., 0., 0., 0., 0., 0., 0., 1.], dtype=float32),\n array([0., 1., 0., 0., 0., 0., 0., 0., 0., 0., 0., 0.], dtype=float32),\n array([0., 0., 1., 0., 0., 0., 0., 0., 0., 0., 0., 0.], dtype=float32),\n array([0., 0., 0., 0., 0., 0., 0., 0., 0., 0., 0., 1.], dtype=float32),\n array([0., 0., 1., 0., 0., 0., 0., 0., 0., 0., 0., 0.], dtype=float32),\n array([0., 0., 0., 1., 0., 0., 0., 0., 0., 0., 0., 0.], dtype=float32),\n array([0., 1., 0., 0., 0., 0., 0., 0., 0., 0., 0., 0.], dtype=float32),\n array([0., 0., 0., 0., 0., 0., 0., 0., 0., 0., 0., 1.], dtype=float32),\n array([0., 0., 0., 0., 0., 0., 0., 0., 0., 0., 0., 1.], dtype=float32),\n array([0., 1., 0., 0., 0., 0., 0., 0., 0., 0., 0., 0.], dtype=float32),\n array([0., 0., 0., 0., 0., 0., 0., 0., 0., 0., 1., 0.], dtype=float32),\n array([0., 1., 0., 0., 0., 0., 0., 0., 0., 0., 0., 0.], dtype=float32),\n array([0., 0., 0., 0., 0., 0., 0., 1., 0., 0., 0., 0.], dtype=float32),\n array([0., 1., 0., 0., 0., 0., 0., 0., 0., 0., 0., 0.], dtype=float32),\n array([0., 0., 0., 0., 0., 0., 0., 0., 0., 0., 1., 0.], dtype=float32)]"
     },
     "metadata": {},
     "execution_count": 47
    }
   ],
   "source": [
    "list(y_train_categorical)"
   ]
  },
  {
   "cell_type": "code",
   "execution_count": 48,
   "metadata": {},
   "outputs": [],
   "source": [
    "from sklearn.svm import SVC \n",
    "model = SVC(kernel='rbf')"
   ]
  },
  {
   "cell_type": "code",
   "execution_count": 49,
   "metadata": {},
   "outputs": [],
   "source": [
    "from sklearn.model_selection import GridSearchCV\n",
    "param_grid = {'C': [1, 5, 10],\n",
    "              'gamma': [0.0001, 0.001, 0.01]}\n",
    "grid = GridSearchCV(model, param_grid, verbose=3)"
   ]
  },
  {
   "cell_type": "code",
   "execution_count": 62,
   "metadata": {
    "tags": []
   },
   "outputs": [
    {
     "output_type": "stream",
     "name": "stdout",
     "text": "Fitting 5 folds for each of 9 candidates, totalling 45 fits\n[CV] C=1, gamma=0.0001 ...............................................\n[CV] ................... C=1, gamma=0.0001, score=0.833, total=   0.0s\n[CV] C=1, gamma=0.0001 ...............................................\n[CV] ................... C=1, gamma=0.0001, score=0.885, total=   0.0s\n[CV] C=1, gamma=0.0001 ...............................................\n[CV] ................... C=1, gamma=0.0001, score=0.883, total=   0.0s\n[CV] C=1, gamma=0.0001 ...............................................\n[CV] ................... C=1, gamma=0.0001, score=0.844, total=   0.0s\n[CV] C=1, gamma=0.0001 ...............................................\n[CV] ................... C=1, gamma=0.0001, score=0.857, total=   0.0s\n[CV] C=1, gamma=0.001 ................................................\n[CV] .................... C=1, gamma=0.001, score=0.859, total=   0.0s\n[CV] C=1, gamma=0.001 ................................................\n[CV] .................... C=1, gamma=0.001, score=0.910, total=   0.0s\n[CV] C=1, gamma=0.001 ................................................\n[CV] .................... C=1, gamma=0.001, score=0.883, total=   0.0s\n[CV] C=1, gamma=0.001 ................................................\n[CV] .................... C=1, gamma=0.001, score=0.818, total=   0.0s\n[CV] C=1, gamma=0.001 ................................................\n[CV] .................... C=1, gamma=0.001, score=0.844, total=   0.0s\n[CV] C=1, gamma=0.01 .................................................\n[CV] ..................... C=1, gamma=0.01, score=0.667, total=   0.0s\n[CV] C=1, gamma=0.01 .................................................\n[CV] ..................... C=1, gamma=0.01, score=0.679, total=   0.0s\n[CV] C=1, gamma=0.01 .................................................\n[Parallel(n_jobs=1)]: Using backend SequentialBackend with 1 concurrent workers.\n[Parallel(n_jobs=1)]: Done   1 out of   1 | elapsed:    0.0s remaining:    0.0s\n[Parallel(n_jobs=1)]: Done   2 out of   2 | elapsed:    0.0s remaining:    0.0s\n[CV] ..................... C=1, gamma=0.01, score=0.714, total=   0.0s\n[CV] C=1, gamma=0.01 .................................................\n[CV] ..................... C=1, gamma=0.01, score=0.740, total=   0.0s\n[CV] C=1, gamma=0.01 .................................................\n[CV] ..................... C=1, gamma=0.01, score=0.727, total=   0.0s\n[CV] C=5, gamma=0.0001 ...............................................\n[CV] ................... C=5, gamma=0.0001, score=0.859, total=   0.0s\n[CV] C=5, gamma=0.0001 ...............................................\n[CV] ................... C=5, gamma=0.0001, score=0.936, total=   0.0s\n[CV] C=5, gamma=0.0001 ...............................................\n[CV] ................... C=5, gamma=0.0001, score=0.909, total=   0.0s\n[CV] C=5, gamma=0.0001 ...............................................\n[CV] ................... C=5, gamma=0.0001, score=0.870, total=   0.0s\n[CV] C=5, gamma=0.0001 ...............................................\n[CV] ................... C=5, gamma=0.0001, score=0.909, total=   0.0s\n[CV] C=5, gamma=0.001 ................................................\n[CV] .................... C=5, gamma=0.001, score=0.859, total=   0.0s\n[CV] C=5, gamma=0.001 ................................................\n[CV] .................... C=5, gamma=0.001, score=0.885, total=   0.0s\n[CV] C=5, gamma=0.001 ................................................\n[CV] .................... C=5, gamma=0.001, score=0.883, total=   0.0s\n[CV] C=5, gamma=0.001 ................................................\n[CV] .................... C=5, gamma=0.001, score=0.805, total=   0.0s\n[CV] C=5, gamma=0.001 ................................................\n[CV] .................... C=5, gamma=0.001, score=0.857, total=   0.0s\n[CV] C=5, gamma=0.01 .................................................\n[CV] ..................... C=5, gamma=0.01, score=0.692, total=   0.0s\n[CV] C=5, gamma=0.01 .................................................\n[CV] ..................... C=5, gamma=0.01, score=0.705, total=   0.0s\n[CV] C=5, gamma=0.01 .................................................\n[CV] ..................... C=5, gamma=0.01, score=0.753, total=   0.0s\n[CV] C=5, gamma=0.01 .................................................\n[CV] ..................... C=5, gamma=0.01, score=0.766, total=   0.0s\n[CV] C=5, gamma=0.01 .................................................\n[CV] ..................... C=5, gamma=0.01, score=0.753, total=   0.0s\n[CV] C=10, gamma=0.0001 ..............................................\n[CV] .................. C=10, gamma=0.0001, score=0.897, total=   0.0s\n[CV] C=10, gamma=0.0001 ..............................................\n[CV] .................. C=10, gamma=0.0001, score=0.936, total=   0.0s\n[CV] C=10, gamma=0.0001 ..............................................\n[CV] .................. C=10, gamma=0.0001, score=0.896, total=   0.0s\n[CV] C=10, gamma=0.0001 ..............................................\n[CV] .................. C=10, gamma=0.0001, score=0.896, total=   0.0s\n[CV] C=10, gamma=0.0001 ..............................................\n[CV] .................. C=10, gamma=0.0001, score=0.896, total=   0.0s\n[CV] C=10, gamma=0.001 ...............................................\n[CV] ................... C=10, gamma=0.001, score=0.859, total=   0.0s\n[CV] C=10, gamma=0.001 ...............................................\n[CV] ................... C=10, gamma=0.001, score=0.885, total=   0.0s\n[CV] C=10, gamma=0.001 ...............................................\n[CV] ................... C=10, gamma=0.001, score=0.883, total=   0.0s\n[CV] C=10, gamma=0.001 ...............................................\n[CV] ................... C=10, gamma=0.001, score=0.818, total=   0.0s\n[CV] C=10, gamma=0.001 ...............................................\n[CV] ................... C=10, gamma=0.001, score=0.857, total=   0.0s\n[CV] C=10, gamma=0.01 ................................................\n[CV] .................... C=10, gamma=0.01, score=0.692, total=   0.0s\n[CV] C=10, gamma=0.01 ................................................\n[CV] .................... C=10, gamma=0.01, score=0.705, total=   0.0s\n[CV] C=10, gamma=0.01 ................................................\n[CV] .................... C=10, gamma=0.01, score=0.753, total=   0.0s\n[CV] C=10, gamma=0.01 ................................................\n[CV] .................... C=10, gamma=0.01, score=0.766, total=   0.0s\n[CV] C=10, gamma=0.01 ................................................\n[CV] .................... C=10, gamma=0.01, score=0.753, total=   0.0s\n[Parallel(n_jobs=1)]: Done  45 out of  45 | elapsed:    0.8s finished\n"
    },
    {
     "output_type": "execute_result",
     "data": {
      "text/plain": "GridSearchCV(cv=None, error_score=nan,\n             estimator=SVC(C=1.0, break_ties=False, cache_size=200,\n                           class_weight=None, coef0=0.0,\n                           decision_function_shape='ovr', degree=3,\n                           gamma='scale', kernel='rbf', max_iter=-1,\n                           probability=False, random_state=None, shrinking=True,\n                           tol=0.001, verbose=False),\n             iid='deprecated', n_jobs=None,\n             param_grid={'C': [1, 5, 10], 'gamma': [0.0001, 0.001, 0.01]},\n             pre_dispatch='2*n_jobs', refit=True, return_train_score=False,\n             scoring=None, verbose=3)"
     },
     "metadata": {},
     "execution_count": 62
    }
   ],
   "source": [
    "grid.fit(X_train, y_train)"
   ]
  },
  {
   "cell_type": "code",
   "execution_count": 63,
   "metadata": {},
   "outputs": [
    {
     "output_type": "execute_result",
     "data": {
      "text/plain": "{'C': 10, 'gamma': 0.0001}"
     },
     "metadata": {},
     "execution_count": 63
    }
   ],
   "source": [
    "grid.best_params_"
   ]
  },
  {
   "cell_type": "code",
   "execution_count": 65,
   "metadata": {},
   "outputs": [
    {
     "output_type": "execute_result",
     "data": {
      "text/plain": "array(['aug', 'aug', 'sep', 'sep', 'sep', 'jul', 'sep', 'jul', 'jul',\n       'sep', 'aug', 'sep', 'mar', 'aug', 'sep', 'sep', 'sep', 'sep',\n       'aug', 'jun', 'sep', 'aug', 'sep', 'aug', 'sep', 'sep', 'sep',\n       'sep', 'aug', 'jun', 'sep', 'jul', 'jul', 'sep', 'sep', 'sep',\n       'sep', 'sep', 'aug', 'aug', 'sep', 'mar', 'sep', 'aug', 'aug',\n       'aug', 'aug', 'mar', 'sep', 'sep', 'aug', 'aug', 'sep', 'jun',\n       'jul', 'aug', 'sep', 'aug', 'aug', 'aug', 'aug', 'sep', 'sep',\n       'mar', 'oct', 'aug', 'aug', 'sep', 'feb', 'aug', 'aug', 'jul',\n       'jul', 'mar', 'aug', 'aug', 'aug', 'sep', 'mar', 'aug', 'aug',\n       'jul', 'aug', 'feb', 'mar', 'mar', 'oct', 'aug', 'sep', 'sep',\n       'aug', 'jul', 'mar', 'sep', 'mar', 'feb', 'aug', 'mar', 'aug',\n       'aug', 'sep', 'sep', 'aug', 'sep', 'aug', 'sep', 'jul', 'feb',\n       'aug', 'feb', 'feb', 'aug', 'sep', 'sep', 'sep', 'aug', 'aug',\n       'aug', 'aug', 'sep', 'sep', 'sep', 'jun', 'aug', 'sep', 'mar',\n       'jul', 'dec', 'sep', 'aug'], dtype=object)"
     },
     "metadata": {},
     "execution_count": 65
    }
   ],
   "source": [
    "predictions = grid.predict(X_test)\n",
    "predictions"
   ]
  },
  {
   "cell_type": "code",
   "execution_count": 70,
   "metadata": {},
   "outputs": [
    {
     "output_type": "error",
     "ename": "Exception",
     "evalue": "Data must be 1-dimensional",
     "traceback": [
      "\u001b[0;31m---------------------------------------------------------------------------\u001b[0m",
      "\u001b[0;31mException\u001b[0m                                 Traceback (most recent call last)",
      "\u001b[0;32m<ipython-input-70-b6b54fdbc29a>\u001b[0m in \u001b[0;36m<module>\u001b[0;34m\u001b[0m\n\u001b[1;32m      2\u001b[0m     \u001b[0;34m'predicted'\u001b[0m\u001b[0;34m:\u001b[0m\u001b[0mpredictions\u001b[0m\u001b[0;34m,\u001b[0m\u001b[0;34m\u001b[0m\u001b[0;34m\u001b[0m\u001b[0m\n\u001b[1;32m      3\u001b[0m     \u001b[0;34m'actual_y'\u001b[0m\u001b[0;34m:\u001b[0m\u001b[0my_test\u001b[0m\u001b[0;34m,\u001b[0m\u001b[0;34m\u001b[0m\u001b[0;34m\u001b[0m\u001b[0m\n\u001b[0;32m----> 4\u001b[0;31m     \u001b[0;34m'temp'\u001b[0m\u001b[0;34m:\u001b[0m\u001b[0mX_test\u001b[0m\u001b[0;34m[\u001b[0m\u001b[0;34m'temp'\u001b[0m\u001b[0;34m]\u001b[0m\u001b[0;34m\u001b[0m\u001b[0;34m\u001b[0m\u001b[0m\n\u001b[0m\u001b[1;32m      5\u001b[0m })\n\u001b[1;32m      6\u001b[0m \u001b[0mprediction_df\u001b[0m\u001b[0;34m\u001b[0m\u001b[0;34m\u001b[0m\u001b[0m\n",
      "\u001b[0;32m/opt/anaconda3/lib/python3.7/site-packages/pandas/core/frame.py\u001b[0m in \u001b[0;36m__init__\u001b[0;34m(self, data, index, columns, dtype, copy)\u001b[0m\n\u001b[1;32m    433\u001b[0m             )\n\u001b[1;32m    434\u001b[0m         \u001b[0;32melif\u001b[0m \u001b[0misinstance\u001b[0m\u001b[0;34m(\u001b[0m\u001b[0mdata\u001b[0m\u001b[0;34m,\u001b[0m \u001b[0mdict\u001b[0m\u001b[0;34m)\u001b[0m\u001b[0;34m:\u001b[0m\u001b[0;34m\u001b[0m\u001b[0;34m\u001b[0m\u001b[0m\n\u001b[0;32m--> 435\u001b[0;31m             \u001b[0mmgr\u001b[0m \u001b[0;34m=\u001b[0m \u001b[0minit_dict\u001b[0m\u001b[0;34m(\u001b[0m\u001b[0mdata\u001b[0m\u001b[0;34m,\u001b[0m \u001b[0mindex\u001b[0m\u001b[0;34m,\u001b[0m \u001b[0mcolumns\u001b[0m\u001b[0;34m,\u001b[0m \u001b[0mdtype\u001b[0m\u001b[0;34m=\u001b[0m\u001b[0mdtype\u001b[0m\u001b[0;34m)\u001b[0m\u001b[0;34m\u001b[0m\u001b[0;34m\u001b[0m\u001b[0m\n\u001b[0m\u001b[1;32m    436\u001b[0m         \u001b[0;32melif\u001b[0m \u001b[0misinstance\u001b[0m\u001b[0;34m(\u001b[0m\u001b[0mdata\u001b[0m\u001b[0;34m,\u001b[0m \u001b[0mma\u001b[0m\u001b[0;34m.\u001b[0m\u001b[0mMaskedArray\u001b[0m\u001b[0;34m)\u001b[0m\u001b[0;34m:\u001b[0m\u001b[0;34m\u001b[0m\u001b[0;34m\u001b[0m\u001b[0m\n\u001b[1;32m    437\u001b[0m             \u001b[0;32mimport\u001b[0m \u001b[0mnumpy\u001b[0m\u001b[0;34m.\u001b[0m\u001b[0mma\u001b[0m\u001b[0;34m.\u001b[0m\u001b[0mmrecords\u001b[0m \u001b[0;32mas\u001b[0m \u001b[0mmrecords\u001b[0m\u001b[0;34m\u001b[0m\u001b[0;34m\u001b[0m\u001b[0m\n",
      "\u001b[0;32m/opt/anaconda3/lib/python3.7/site-packages/pandas/core/internals/construction.py\u001b[0m in \u001b[0;36minit_dict\u001b[0;34m(data, index, columns, dtype)\u001b[0m\n\u001b[1;32m    252\u001b[0m             \u001b[0marr\u001b[0m \u001b[0;32mif\u001b[0m \u001b[0;32mnot\u001b[0m \u001b[0mis_datetime64tz_dtype\u001b[0m\u001b[0;34m(\u001b[0m\u001b[0marr\u001b[0m\u001b[0;34m)\u001b[0m \u001b[0;32melse\u001b[0m \u001b[0marr\u001b[0m\u001b[0;34m.\u001b[0m\u001b[0mcopy\u001b[0m\u001b[0;34m(\u001b[0m\u001b[0;34m)\u001b[0m \u001b[0;32mfor\u001b[0m \u001b[0marr\u001b[0m \u001b[0;32min\u001b[0m \u001b[0marrays\u001b[0m\u001b[0;34m\u001b[0m\u001b[0;34m\u001b[0m\u001b[0m\n\u001b[1;32m    253\u001b[0m         ]\n\u001b[0;32m--> 254\u001b[0;31m     \u001b[0;32mreturn\u001b[0m \u001b[0marrays_to_mgr\u001b[0m\u001b[0;34m(\u001b[0m\u001b[0marrays\u001b[0m\u001b[0;34m,\u001b[0m \u001b[0mdata_names\u001b[0m\u001b[0;34m,\u001b[0m \u001b[0mindex\u001b[0m\u001b[0;34m,\u001b[0m \u001b[0mcolumns\u001b[0m\u001b[0;34m,\u001b[0m \u001b[0mdtype\u001b[0m\u001b[0;34m=\u001b[0m\u001b[0mdtype\u001b[0m\u001b[0;34m)\u001b[0m\u001b[0;34m\u001b[0m\u001b[0;34m\u001b[0m\u001b[0m\n\u001b[0m\u001b[1;32m    255\u001b[0m \u001b[0;34m\u001b[0m\u001b[0m\n\u001b[1;32m    256\u001b[0m \u001b[0;34m\u001b[0m\u001b[0m\n",
      "\u001b[0;32m/opt/anaconda3/lib/python3.7/site-packages/pandas/core/internals/construction.py\u001b[0m in \u001b[0;36marrays_to_mgr\u001b[0;34m(arrays, arr_names, index, columns, dtype)\u001b[0m\n\u001b[1;32m     67\u001b[0m \u001b[0;34m\u001b[0m\u001b[0m\n\u001b[1;32m     68\u001b[0m     \u001b[0;31m# don't force copy because getting jammed in an ndarray anyway\u001b[0m\u001b[0;34m\u001b[0m\u001b[0;34m\u001b[0m\u001b[0;34m\u001b[0m\u001b[0m\n\u001b[0;32m---> 69\u001b[0;31m     \u001b[0marrays\u001b[0m \u001b[0;34m=\u001b[0m \u001b[0m_homogenize\u001b[0m\u001b[0;34m(\u001b[0m\u001b[0marrays\u001b[0m\u001b[0;34m,\u001b[0m \u001b[0mindex\u001b[0m\u001b[0;34m,\u001b[0m \u001b[0mdtype\u001b[0m\u001b[0;34m)\u001b[0m\u001b[0;34m\u001b[0m\u001b[0;34m\u001b[0m\u001b[0m\n\u001b[0m\u001b[1;32m     70\u001b[0m \u001b[0;34m\u001b[0m\u001b[0m\n\u001b[1;32m     71\u001b[0m     \u001b[0;31m# from BlockManager perspective\u001b[0m\u001b[0;34m\u001b[0m\u001b[0;34m\u001b[0m\u001b[0;34m\u001b[0m\u001b[0m\n",
      "\u001b[0;32m/opt/anaconda3/lib/python3.7/site-packages/pandas/core/internals/construction.py\u001b[0m in \u001b[0;36m_homogenize\u001b[0;34m(data, index, dtype)\u001b[0m\n\u001b[1;32m    321\u001b[0m                 \u001b[0mval\u001b[0m \u001b[0;34m=\u001b[0m \u001b[0mlib\u001b[0m\u001b[0;34m.\u001b[0m\u001b[0mfast_multiget\u001b[0m\u001b[0;34m(\u001b[0m\u001b[0mval\u001b[0m\u001b[0;34m,\u001b[0m \u001b[0moindex\u001b[0m\u001b[0;34m.\u001b[0m\u001b[0mvalues\u001b[0m\u001b[0;34m,\u001b[0m \u001b[0mdefault\u001b[0m\u001b[0;34m=\u001b[0m\u001b[0mnp\u001b[0m\u001b[0;34m.\u001b[0m\u001b[0mnan\u001b[0m\u001b[0;34m)\u001b[0m\u001b[0;34m\u001b[0m\u001b[0;34m\u001b[0m\u001b[0m\n\u001b[1;32m    322\u001b[0m             val = sanitize_array(\n\u001b[0;32m--> 323\u001b[0;31m                 \u001b[0mval\u001b[0m\u001b[0;34m,\u001b[0m \u001b[0mindex\u001b[0m\u001b[0;34m,\u001b[0m \u001b[0mdtype\u001b[0m\u001b[0;34m=\u001b[0m\u001b[0mdtype\u001b[0m\u001b[0;34m,\u001b[0m \u001b[0mcopy\u001b[0m\u001b[0;34m=\u001b[0m\u001b[0;32mFalse\u001b[0m\u001b[0;34m,\u001b[0m \u001b[0mraise_cast_failure\u001b[0m\u001b[0;34m=\u001b[0m\u001b[0;32mFalse\u001b[0m\u001b[0;34m\u001b[0m\u001b[0;34m\u001b[0m\u001b[0m\n\u001b[0m\u001b[1;32m    324\u001b[0m             )\n\u001b[1;32m    325\u001b[0m \u001b[0;34m\u001b[0m\u001b[0m\n",
      "\u001b[0;32m/opt/anaconda3/lib/python3.7/site-packages/pandas/core/construction.py\u001b[0m in \u001b[0;36msanitize_array\u001b[0;34m(data, index, dtype, copy, raise_cast_failure)\u001b[0m\n\u001b[1;32m    480\u001b[0m     \u001b[0;32melif\u001b[0m \u001b[0msubarr\u001b[0m\u001b[0;34m.\u001b[0m\u001b[0mndim\u001b[0m \u001b[0;34m>\u001b[0m \u001b[0;36m1\u001b[0m\u001b[0;34m:\u001b[0m\u001b[0;34m\u001b[0m\u001b[0;34m\u001b[0m\u001b[0m\n\u001b[1;32m    481\u001b[0m         \u001b[0;32mif\u001b[0m \u001b[0misinstance\u001b[0m\u001b[0;34m(\u001b[0m\u001b[0mdata\u001b[0m\u001b[0;34m,\u001b[0m \u001b[0mnp\u001b[0m\u001b[0;34m.\u001b[0m\u001b[0mndarray\u001b[0m\u001b[0;34m)\u001b[0m\u001b[0;34m:\u001b[0m\u001b[0;34m\u001b[0m\u001b[0;34m\u001b[0m\u001b[0m\n\u001b[0;32m--> 482\u001b[0;31m             \u001b[0;32mraise\u001b[0m \u001b[0mException\u001b[0m\u001b[0;34m(\u001b[0m\u001b[0;34m\"Data must be 1-dimensional\"\u001b[0m\u001b[0;34m)\u001b[0m\u001b[0;34m\u001b[0m\u001b[0;34m\u001b[0m\u001b[0m\n\u001b[0m\u001b[1;32m    483\u001b[0m         \u001b[0;32melse\u001b[0m\u001b[0;34m:\u001b[0m\u001b[0;34m\u001b[0m\u001b[0;34m\u001b[0m\u001b[0m\n\u001b[1;32m    484\u001b[0m             \u001b[0msubarr\u001b[0m \u001b[0;34m=\u001b[0m \u001b[0mcom\u001b[0m\u001b[0;34m.\u001b[0m\u001b[0masarray_tuplesafe\u001b[0m\u001b[0;34m(\u001b[0m\u001b[0mdata\u001b[0m\u001b[0;34m,\u001b[0m \u001b[0mdtype\u001b[0m\u001b[0;34m=\u001b[0m\u001b[0mdtype\u001b[0m\u001b[0;34m)\u001b[0m\u001b[0;34m\u001b[0m\u001b[0;34m\u001b[0m\u001b[0m\n",
      "\u001b[0;31mException\u001b[0m: Data must be 1-dimensional"
     ]
    }
   ],
   "source": [
    "prediction_df = pd.DataFrame({\n",
    "    'predicted':predictions,\n",
    "    'actual_y':y_test,\n",
    "    'temp':X_test['temp']\n",
    "})\n",
    "prediction_df"
   ]
  },
  {
   "cell_type": "code",
   "execution_count": 79,
   "metadata": {},
   "outputs": [
    {
     "output_type": "execute_result",
     "data": {
      "text/plain": "     X  Y  FFMC    DMC     DC   ISI  temp  RH  wind  rain   area y_test\n270  2  2  92.1  152.6  658.2  14.3  21.8  56   3.1   0.0   0.52    aug\n90   6  5  90.2   96.9  624.2   8.9  14.7  59   5.8   0.0   0.00    aug\n133  4  6  93.7   80.9  685.2  17.9  17.6  42   3.1   0.0   0.00    sep\n221  3  4  93.3  141.2  713.9  13.9  18.6  49   3.6   0.0  35.88    sep\n224  7  4  90.1   82.9  735.7   6.2  15.4  57   4.5   0.0  37.71    sep\n..  .. ..   ...    ...    ...   ...   ...  ..   ...   ...    ...    ...\n18   6  4  89.2   27.9   70.8   6.3  15.9  35   4.0   0.0   0.00    mar\n40   4  4  79.5   60.6  366.7   1.5  23.3  37   3.1   0.0   0.00    jul\n273  4  6  84.4   27.2  353.5   6.8   4.8  57   8.5   0.0   8.98    dec\n503  2  4  94.5  139.4  689.1  20.0  29.2  30   4.9   0.0   1.95    sep\n500  8  6  96.1  181.1  671.2  14.3  21.6  65   4.9   0.8   0.00    aug\n\n[130 rows x 12 columns]",
      "text/html": "<div>\n<style scoped>\n    .dataframe tbody tr th:only-of-type {\n        vertical-align: middle;\n    }\n\n    .dataframe tbody tr th {\n        vertical-align: top;\n    }\n\n    .dataframe thead th {\n        text-align: right;\n    }\n</style>\n<table border=\"1\" class=\"dataframe\">\n  <thead>\n    <tr style=\"text-align: right;\">\n      <th></th>\n      <th>X</th>\n      <th>Y</th>\n      <th>FFMC</th>\n      <th>DMC</th>\n      <th>DC</th>\n      <th>ISI</th>\n      <th>temp</th>\n      <th>RH</th>\n      <th>wind</th>\n      <th>rain</th>\n      <th>area</th>\n      <th>y_test</th>\n    </tr>\n  </thead>\n  <tbody>\n    <tr>\n      <th>270</th>\n      <td>2</td>\n      <td>2</td>\n      <td>92.1</td>\n      <td>152.6</td>\n      <td>658.2</td>\n      <td>14.3</td>\n      <td>21.8</td>\n      <td>56</td>\n      <td>3.1</td>\n      <td>0.0</td>\n      <td>0.52</td>\n      <td>aug</td>\n    </tr>\n    <tr>\n      <th>90</th>\n      <td>6</td>\n      <td>5</td>\n      <td>90.2</td>\n      <td>96.9</td>\n      <td>624.2</td>\n      <td>8.9</td>\n      <td>14.7</td>\n      <td>59</td>\n      <td>5.8</td>\n      <td>0.0</td>\n      <td>0.00</td>\n      <td>aug</td>\n    </tr>\n    <tr>\n      <th>133</th>\n      <td>4</td>\n      <td>6</td>\n      <td>93.7</td>\n      <td>80.9</td>\n      <td>685.2</td>\n      <td>17.9</td>\n      <td>17.6</td>\n      <td>42</td>\n      <td>3.1</td>\n      <td>0.0</td>\n      <td>0.00</td>\n      <td>sep</td>\n    </tr>\n    <tr>\n      <th>221</th>\n      <td>3</td>\n      <td>4</td>\n      <td>93.3</td>\n      <td>141.2</td>\n      <td>713.9</td>\n      <td>13.9</td>\n      <td>18.6</td>\n      <td>49</td>\n      <td>3.6</td>\n      <td>0.0</td>\n      <td>35.88</td>\n      <td>sep</td>\n    </tr>\n    <tr>\n      <th>224</th>\n      <td>7</td>\n      <td>4</td>\n      <td>90.1</td>\n      <td>82.9</td>\n      <td>735.7</td>\n      <td>6.2</td>\n      <td>15.4</td>\n      <td>57</td>\n      <td>4.5</td>\n      <td>0.0</td>\n      <td>37.71</td>\n      <td>sep</td>\n    </tr>\n    <tr>\n      <th>...</th>\n      <td>...</td>\n      <td>...</td>\n      <td>...</td>\n      <td>...</td>\n      <td>...</td>\n      <td>...</td>\n      <td>...</td>\n      <td>...</td>\n      <td>...</td>\n      <td>...</td>\n      <td>...</td>\n      <td>...</td>\n    </tr>\n    <tr>\n      <th>18</th>\n      <td>6</td>\n      <td>4</td>\n      <td>89.2</td>\n      <td>27.9</td>\n      <td>70.8</td>\n      <td>6.3</td>\n      <td>15.9</td>\n      <td>35</td>\n      <td>4.0</td>\n      <td>0.0</td>\n      <td>0.00</td>\n      <td>mar</td>\n    </tr>\n    <tr>\n      <th>40</th>\n      <td>4</td>\n      <td>4</td>\n      <td>79.5</td>\n      <td>60.6</td>\n      <td>366.7</td>\n      <td>1.5</td>\n      <td>23.3</td>\n      <td>37</td>\n      <td>3.1</td>\n      <td>0.0</td>\n      <td>0.00</td>\n      <td>jul</td>\n    </tr>\n    <tr>\n      <th>273</th>\n      <td>4</td>\n      <td>6</td>\n      <td>84.4</td>\n      <td>27.2</td>\n      <td>353.5</td>\n      <td>6.8</td>\n      <td>4.8</td>\n      <td>57</td>\n      <td>8.5</td>\n      <td>0.0</td>\n      <td>8.98</td>\n      <td>dec</td>\n    </tr>\n    <tr>\n      <th>503</th>\n      <td>2</td>\n      <td>4</td>\n      <td>94.5</td>\n      <td>139.4</td>\n      <td>689.1</td>\n      <td>20.0</td>\n      <td>29.2</td>\n      <td>30</td>\n      <td>4.9</td>\n      <td>0.0</td>\n      <td>1.95</td>\n      <td>sep</td>\n    </tr>\n    <tr>\n      <th>500</th>\n      <td>8</td>\n      <td>6</td>\n      <td>96.1</td>\n      <td>181.1</td>\n      <td>671.2</td>\n      <td>14.3</td>\n      <td>21.6</td>\n      <td>65</td>\n      <td>4.9</td>\n      <td>0.8</td>\n      <td>0.00</td>\n      <td>aug</td>\n    </tr>\n  </tbody>\n</table>\n<p>130 rows × 12 columns</p>\n</div>"
     },
     "metadata": {},
     "execution_count": 79
    }
   ],
   "source": [
    "predicted_df = pd.DataFrame(data=predictions, columns=['y_test'], \n",
    "                            index=X_test.index.copy())\n",
    "df_out = pd.merge(X_test, predicted_df, how ='left', left_index=True, \n",
    "                 right_index=True)\n",
    "df_out"
   ]
  },
  {
   "cell_type": "code",
   "execution_count": 83,
   "metadata": {},
   "outputs": [],
   "source": [
    "df_out.to_csv('out.csv', index=False) "
   ]
  },
  {
   "cell_type": "code",
   "execution_count": null,
   "metadata": {},
   "outputs": [],
   "source": []
  },
  {
   "cell_type": "code",
   "execution_count": 64,
   "metadata": {},
   "outputs": [
    {
     "output_type": "execute_result",
     "data": {
      "text/plain": "0.9230769230769231"
     },
     "metadata": {},
     "execution_count": 64
    }
   ],
   "source": [
    "grid.score(X_test, y_test)"
   ]
  },
  {
   "cell_type": "code",
   "execution_count": 68,
   "metadata": {},
   "outputs": [
    {
     "output_type": "error",
     "ename": "SyntaxError",
     "evalue": "unexpected EOF while parsing (<ipython-input-68-beedf5e2f405>, line 2)",
     "traceback": [
      "\u001b[0;36m  File \u001b[0;32m\"<ipython-input-68-beedf5e2f405>\"\u001b[0;36m, line \u001b[0;32m2\u001b[0m\n\u001b[0;31m    print(classification_report(y_test, predictions)\u001b[0m\n\u001b[0m                                                    ^\u001b[0m\n\u001b[0;31mSyntaxError\u001b[0m\u001b[0;31m:\u001b[0m unexpected EOF while parsing\n"
     ]
    }
   ],
   "source": [
    "from sklearn.metrics import classification_report\n",
    "print(classification_report(y_test, predictions)"
   ]
  },
  {
   "cell_type": "code",
   "execution_count": null,
   "metadata": {},
   "outputs": [],
   "source": []
  }
 ]
}